{
 "cells": [
  {
   "cell_type": "code",
   "execution_count": 1,
   "metadata": {
    "collapsed": true
   },
   "outputs": [],
   "source": [
    "import pandas as pd\n",
    "import numpy as np\n",
    "from matplotlib import pyplot as plt\n",
    "import seaborn as sns\n",
    "from sklearn.linear_model import LogisticRegression #logistic regression\n",
    "from sklearn import svm #support vector Machine\n",
    "from sklearn.ensemble import RandomForestClassifier #Random Forest\n",
    "from sklearn.neighbors import KNeighborsClassifier #KNN\n",
    "from sklearn.naive_bayes import GaussianNB #Naive bayes\n",
    "from sklearn.tree import DecisionTreeClassifier #Decision Tree\n",
    "from sklearn.model_selection import train_test_split #training and testing data split\n",
    "from sklearn import metrics #accuracy measure\n",
    "from sklearn.metrics import confusion_matrix #for confusion matrix\n",
    "from sklearn import datasets, neighbors, linear_model, preprocessing\n",
    "from sklearn.model_selection import learning_curve, ShuffleSplit\n",
    "from sklearn.decomposition import PCA\n",
    "from sklearn.metrics import classification_report\n",
    "from sklearn.preprocessing import StandardScaler\n",
    "from sklearn.externals import joblib\n",
    "from sklearn.metrics import precision_recall_fscore_support"
   ]
  },
  {
   "cell_type": "code",
   "execution_count": 2,
   "metadata": {
    "collapsed": false
   },
   "outputs": [
    {
     "data": {
      "text/html": [
       "<div>\n",
       "<table border=\"1\" class=\"dataframe\">\n",
       "  <thead>\n",
       "    <tr style=\"text-align: right;\">\n",
       "      <th></th>\n",
       "      <th>id</th>\n",
       "      <th>target</th>\n",
       "      <th>ps_ind_01</th>\n",
       "      <th>ps_ind_02_cat</th>\n",
       "      <th>ps_ind_03</th>\n",
       "      <th>ps_ind_04_cat</th>\n",
       "      <th>ps_ind_05_cat</th>\n",
       "      <th>ps_ind_06_bin</th>\n",
       "      <th>ps_ind_07_bin</th>\n",
       "      <th>ps_ind_08_bin</th>\n",
       "      <th>...</th>\n",
       "      <th>ps_calc_11</th>\n",
       "      <th>ps_calc_12</th>\n",
       "      <th>ps_calc_13</th>\n",
       "      <th>ps_calc_14</th>\n",
       "      <th>ps_calc_15_bin</th>\n",
       "      <th>ps_calc_16_bin</th>\n",
       "      <th>ps_calc_17_bin</th>\n",
       "      <th>ps_calc_18_bin</th>\n",
       "      <th>ps_calc_19_bin</th>\n",
       "      <th>ps_calc_20_bin</th>\n",
       "    </tr>\n",
       "  </thead>\n",
       "  <tbody>\n",
       "    <tr>\n",
       "      <th>0</th>\n",
       "      <td>7</td>\n",
       "      <td>0</td>\n",
       "      <td>2</td>\n",
       "      <td>2</td>\n",
       "      <td>5</td>\n",
       "      <td>1</td>\n",
       "      <td>0</td>\n",
       "      <td>0</td>\n",
       "      <td>1</td>\n",
       "      <td>0</td>\n",
       "      <td>...</td>\n",
       "      <td>9</td>\n",
       "      <td>1</td>\n",
       "      <td>5</td>\n",
       "      <td>8</td>\n",
       "      <td>0</td>\n",
       "      <td>1</td>\n",
       "      <td>1</td>\n",
       "      <td>0</td>\n",
       "      <td>0</td>\n",
       "      <td>1</td>\n",
       "    </tr>\n",
       "    <tr>\n",
       "      <th>1</th>\n",
       "      <td>9</td>\n",
       "      <td>0</td>\n",
       "      <td>1</td>\n",
       "      <td>1</td>\n",
       "      <td>7</td>\n",
       "      <td>0</td>\n",
       "      <td>0</td>\n",
       "      <td>0</td>\n",
       "      <td>0</td>\n",
       "      <td>1</td>\n",
       "      <td>...</td>\n",
       "      <td>3</td>\n",
       "      <td>1</td>\n",
       "      <td>1</td>\n",
       "      <td>9</td>\n",
       "      <td>0</td>\n",
       "      <td>1</td>\n",
       "      <td>1</td>\n",
       "      <td>0</td>\n",
       "      <td>1</td>\n",
       "      <td>0</td>\n",
       "    </tr>\n",
       "    <tr>\n",
       "      <th>2</th>\n",
       "      <td>13</td>\n",
       "      <td>0</td>\n",
       "      <td>5</td>\n",
       "      <td>4</td>\n",
       "      <td>9</td>\n",
       "      <td>1</td>\n",
       "      <td>0</td>\n",
       "      <td>0</td>\n",
       "      <td>0</td>\n",
       "      <td>1</td>\n",
       "      <td>...</td>\n",
       "      <td>4</td>\n",
       "      <td>2</td>\n",
       "      <td>7</td>\n",
       "      <td>7</td>\n",
       "      <td>0</td>\n",
       "      <td>1</td>\n",
       "      <td>1</td>\n",
       "      <td>0</td>\n",
       "      <td>1</td>\n",
       "      <td>0</td>\n",
       "    </tr>\n",
       "    <tr>\n",
       "      <th>3</th>\n",
       "      <td>16</td>\n",
       "      <td>0</td>\n",
       "      <td>0</td>\n",
       "      <td>1</td>\n",
       "      <td>2</td>\n",
       "      <td>0</td>\n",
       "      <td>0</td>\n",
       "      <td>1</td>\n",
       "      <td>0</td>\n",
       "      <td>0</td>\n",
       "      <td>...</td>\n",
       "      <td>2</td>\n",
       "      <td>2</td>\n",
       "      <td>4</td>\n",
       "      <td>9</td>\n",
       "      <td>0</td>\n",
       "      <td>0</td>\n",
       "      <td>0</td>\n",
       "      <td>0</td>\n",
       "      <td>0</td>\n",
       "      <td>0</td>\n",
       "    </tr>\n",
       "    <tr>\n",
       "      <th>4</th>\n",
       "      <td>17</td>\n",
       "      <td>0</td>\n",
       "      <td>0</td>\n",
       "      <td>2</td>\n",
       "      <td>0</td>\n",
       "      <td>1</td>\n",
       "      <td>0</td>\n",
       "      <td>1</td>\n",
       "      <td>0</td>\n",
       "      <td>0</td>\n",
       "      <td>...</td>\n",
       "      <td>3</td>\n",
       "      <td>1</td>\n",
       "      <td>1</td>\n",
       "      <td>3</td>\n",
       "      <td>0</td>\n",
       "      <td>0</td>\n",
       "      <td>0</td>\n",
       "      <td>1</td>\n",
       "      <td>1</td>\n",
       "      <td>0</td>\n",
       "    </tr>\n",
       "  </tbody>\n",
       "</table>\n",
       "<p>5 rows × 59 columns</p>\n",
       "</div>"
      ],
      "text/plain": [
       "   id  target  ps_ind_01  ps_ind_02_cat  ps_ind_03  ps_ind_04_cat  \\\n",
       "0   7       0          2              2          5              1   \n",
       "1   9       0          1              1          7              0   \n",
       "2  13       0          5              4          9              1   \n",
       "3  16       0          0              1          2              0   \n",
       "4  17       0          0              2          0              1   \n",
       "\n",
       "   ps_ind_05_cat  ps_ind_06_bin  ps_ind_07_bin  ps_ind_08_bin       ...        \\\n",
       "0              0              0              1              0       ...         \n",
       "1              0              0              0              1       ...         \n",
       "2              0              0              0              1       ...         \n",
       "3              0              1              0              0       ...         \n",
       "4              0              1              0              0       ...         \n",
       "\n",
       "   ps_calc_11  ps_calc_12  ps_calc_13  ps_calc_14  ps_calc_15_bin  \\\n",
       "0           9           1           5           8               0   \n",
       "1           3           1           1           9               0   \n",
       "2           4           2           7           7               0   \n",
       "3           2           2           4           9               0   \n",
       "4           3           1           1           3               0   \n",
       "\n",
       "   ps_calc_16_bin  ps_calc_17_bin  ps_calc_18_bin  ps_calc_19_bin  \\\n",
       "0               1               1               0               0   \n",
       "1               1               1               0               1   \n",
       "2               1               1               0               1   \n",
       "3               0               0               0               0   \n",
       "4               0               0               1               1   \n",
       "\n",
       "   ps_calc_20_bin  \n",
       "0               1  \n",
       "1               0  \n",
       "2               0  \n",
       "3               0  \n",
       "4               0  \n",
       "\n",
       "[5 rows x 59 columns]"
      ]
     },
     "execution_count": 2,
     "metadata": {},
     "output_type": "execute_result"
    }
   ],
   "source": [
    "data = pd.read_csv(\"train.csv\")\n",
    "data.head()"
   ]
  },
  {
   "cell_type": "code",
   "execution_count": 3,
   "metadata": {
    "collapsed": false
   },
   "outputs": [
    {
     "name": "stdout",
     "output_type": "stream",
     "text": [
      "<class 'pandas.core.frame.DataFrame'>\n",
      "RangeIndex: 595212 entries, 0 to 595211\n",
      "Data columns (total 59 columns):\n",
      "id                595212 non-null int64\n",
      "target            595212 non-null int64\n",
      "ps_ind_01         595212 non-null int64\n",
      "ps_ind_02_cat     595212 non-null int64\n",
      "ps_ind_03         595212 non-null int64\n",
      "ps_ind_04_cat     595212 non-null int64\n",
      "ps_ind_05_cat     595212 non-null int64\n",
      "ps_ind_06_bin     595212 non-null int64\n",
      "ps_ind_07_bin     595212 non-null int64\n",
      "ps_ind_08_bin     595212 non-null int64\n",
      "ps_ind_09_bin     595212 non-null int64\n",
      "ps_ind_10_bin     595212 non-null int64\n",
      "ps_ind_11_bin     595212 non-null int64\n",
      "ps_ind_12_bin     595212 non-null int64\n",
      "ps_ind_13_bin     595212 non-null int64\n",
      "ps_ind_14         595212 non-null int64\n",
      "ps_ind_15         595212 non-null int64\n",
      "ps_ind_16_bin     595212 non-null int64\n",
      "ps_ind_17_bin     595212 non-null int64\n",
      "ps_ind_18_bin     595212 non-null int64\n",
      "ps_reg_01         595212 non-null float64\n",
      "ps_reg_02         595212 non-null float64\n",
      "ps_reg_03         595212 non-null float64\n",
      "ps_car_01_cat     595212 non-null int64\n",
      "ps_car_02_cat     595212 non-null int64\n",
      "ps_car_03_cat     595212 non-null int64\n",
      "ps_car_04_cat     595212 non-null int64\n",
      "ps_car_05_cat     595212 non-null int64\n",
      "ps_car_06_cat     595212 non-null int64\n",
      "ps_car_07_cat     595212 non-null int64\n",
      "ps_car_08_cat     595212 non-null int64\n",
      "ps_car_09_cat     595212 non-null int64\n",
      "ps_car_10_cat     595212 non-null int64\n",
      "ps_car_11_cat     595212 non-null int64\n",
      "ps_car_11         595212 non-null int64\n",
      "ps_car_12         595212 non-null float64\n",
      "ps_car_13         595212 non-null float64\n",
      "ps_car_14         595212 non-null float64\n",
      "ps_car_15         595212 non-null float64\n",
      "ps_calc_01        595212 non-null float64\n",
      "ps_calc_02        595212 non-null float64\n",
      "ps_calc_03        595212 non-null float64\n",
      "ps_calc_04        595212 non-null int64\n",
      "ps_calc_05        595212 non-null int64\n",
      "ps_calc_06        595212 non-null int64\n",
      "ps_calc_07        595212 non-null int64\n",
      "ps_calc_08        595212 non-null int64\n",
      "ps_calc_09        595212 non-null int64\n",
      "ps_calc_10        595212 non-null int64\n",
      "ps_calc_11        595212 non-null int64\n",
      "ps_calc_12        595212 non-null int64\n",
      "ps_calc_13        595212 non-null int64\n",
      "ps_calc_14        595212 non-null int64\n",
      "ps_calc_15_bin    595212 non-null int64\n",
      "ps_calc_16_bin    595212 non-null int64\n",
      "ps_calc_17_bin    595212 non-null int64\n",
      "ps_calc_18_bin    595212 non-null int64\n",
      "ps_calc_19_bin    595212 non-null int64\n",
      "ps_calc_20_bin    595212 non-null int64\n",
      "dtypes: float64(10), int64(49)\n",
      "memory usage: 267.9 MB\n"
     ]
    }
   ],
   "source": [
    "data.info()"
   ]
  },
  {
   "cell_type": "code",
   "execution_count": 4,
   "metadata": {
    "collapsed": false
   },
   "outputs": [
    {
     "data": {
      "text/plain": [
       "59"
      ]
     },
     "execution_count": 4,
     "metadata": {},
     "output_type": "execute_result"
    }
   ],
   "source": [
    "data.shape[1]"
   ]
  },
  {
   "cell_type": "markdown",
   "metadata": {},
   "source": [
    "Let's try to separate the categorical, binary and continuous/ordinal variables. To get a sense of the continuous and ordinal variables, lets just count the number of entries for each col. If the number of entries is >30 (chosen after first looking at all the values) or so, it is likely a continuous variable, otherwise it is an ordinal variable. "
   ]
  },
  {
   "cell_type": "code",
   "execution_count": 5,
   "metadata": {
    "collapsed": false
   },
   "outputs": [
    {
     "name": "stdout",
     "output_type": "stream",
     "text": [
      "17\n",
      "14\n",
      "22\n",
      "5\n"
     ]
    }
   ],
   "source": [
    "cols = data.drop(\"target\", axis = 1).columns\n",
    "bin_cols = []\n",
    "cat_cols = []\n",
    "cont_cols = []\n",
    "ord_cols = []\n",
    "for i in range(0,len(cols)):\n",
    "    if \"bin\" in cols[i]:\n",
    "        bin_cols.append(cols[i])\n",
    "    elif \"cat\" in cols[i]:\n",
    "        cat_cols.append(cols[i])\n",
    "    elif len(data[cols[i]].unique()) < 30:\n",
    "        ord_cols.append(cols[i])\n",
    "    else:\n",
    "        cont_cols.append(cols[i])\n",
    "print(len(bin_cols))\n",
    "print(len(cat_cols))\n",
    "print(len(ord_cols))\n",
    "print(len(cont_cols))"
   ]
  },
  {
   "cell_type": "markdown",
   "metadata": {},
   "source": [
    "For each of the categorical and ordinal variables, what are the category values? "
   ]
  },
  {
   "cell_type": "code",
   "execution_count": 6,
   "metadata": {
    "collapsed": false
   },
   "outputs": [
    {
     "name": "stdout",
     "output_type": "stream",
     "text": [
      "ps_ind_02_cat : [-1  1  2  3  4]\n",
      "ps_ind_04_cat : [-1  0  1]\n",
      "ps_ind_05_cat : [-1  0  1  2  3  4  5  6]\n",
      "ps_car_01_cat : [-1  0  1  2  3  4  5  6  7  8  9 10 11]\n",
      "ps_car_02_cat : [-1  0  1]\n",
      "ps_car_03_cat : [-1  0  1]\n",
      "ps_car_04_cat : [0 1 2 3 4 5 6 7 8 9]\n",
      "ps_car_05_cat : [-1  0  1]\n",
      "ps_car_06_cat : [ 0  1  2  3  4  5  6  7  8  9 10 11 12 13 14 15 16 17]\n",
      "ps_car_07_cat : [-1  0  1]\n",
      "ps_car_08_cat : [0 1]\n",
      "ps_car_09_cat : [-1  0  1  2  3  4]\n",
      "ps_car_10_cat : [0 1 2]\n",
      "ps_car_11_cat : [  1   2   3   4   5   6   7   8   9  10  11  12  13  14  15  16  17  18\n",
      "  19  20  21  22  23  24  25  26  27  28  29  30  31  32  33  34  35  36\n",
      "  37  38  39  40  41  42  43  44  45  46  47  48  49  50  51  52  53  54\n",
      "  55  56  57  58  59  60  61  62  63  64  65  66  67  68  69  70  71  72\n",
      "  73  74  75  76  77  78  79  80  81  82  83  84  85  86  87  88  89  90\n",
      "  91  92  93  94  95  96  97  98  99 100 101 102 103 104]\n",
      "ps_ind_01 : [0 1 2 3 4 5 6 7]\n",
      "ps_ind_03 : [ 0  1  2  3  4  5  6  7  8  9 10 11]\n",
      "ps_ind_14 : [0 1 2 3 4]\n",
      "ps_ind_15 : [ 0  1  2  3  4  5  6  7  8  9 10 11 12 13]\n",
      "ps_reg_01 : [ 0.   0.1  0.2  0.3  0.4  0.5  0.6  0.7  0.8  0.9]\n",
      "ps_reg_02 : [ 0.   0.1  0.2  0.3  0.4  0.5  0.6  0.7  0.8  0.9  1.   1.1  1.2  1.3  1.4\n",
      "  1.5  1.6  1.7  1.8]\n",
      "ps_car_11 : [-1  0  1  2  3]\n",
      "ps_car_15 : [ 0.          1.          1.41421356  1.73205081  2.          2.23606798\n",
      "  2.44948974  2.64575131  2.82842712  3.          3.16227766  3.31662479\n",
      "  3.46410162  3.60555128  3.74165739]\n",
      "ps_calc_01 : [ 0.   0.1  0.2  0.3  0.4  0.5  0.6  0.7  0.8  0.9]\n",
      "ps_calc_02 : [ 0.   0.1  0.2  0.3  0.4  0.5  0.6  0.7  0.8  0.9]\n",
      "ps_calc_03 : [ 0.   0.1  0.2  0.3  0.4  0.5  0.6  0.7  0.8  0.9]\n",
      "ps_calc_04 : [0 1 2 3 4 5]\n",
      "ps_calc_05 : [0 1 2 3 4 5 6]\n",
      "ps_calc_06 : [ 0  1  2  3  4  5  6  7  8  9 10]\n",
      "ps_calc_07 : [0 1 2 3 4 5 6 7 8 9]\n",
      "ps_calc_08 : [ 2  3  4  5  6  7  8  9 10 11 12]\n",
      "ps_calc_09 : [0 1 2 3 4 5 6 7]\n",
      "ps_calc_10 : [ 0  1  2  3  4  5  6  7  8  9 10 11 12 13 14 15 16 17 18 19 20 21 22 23 24\n",
      " 25]\n",
      "ps_calc_11 : [ 0  1  2  3  4  5  6  7  8  9 10 11 12 13 14 15 16 17 18 19]\n",
      "ps_calc_12 : [ 0  1  2  3  4  5  6  7  8  9 10]\n",
      "ps_calc_13 : [ 0  1  2  3  4  5  6  7  8  9 10 11 12 13]\n",
      "ps_calc_14 : [ 0  1  2  3  4  5  6  7  8  9 10 11 12 13 14 15 16 17 18 19 20 21 22 23]\n",
      "36\n"
     ]
    }
   ],
   "source": [
    "i=0\n",
    "for col in (cat_cols+ord_cols):\n",
    "    print(str(col) + \" : \" + str(np.sort(data[col].unique())))\n",
    "    i=i+1\n",
    "print(i)"
   ]
  },
  {
   "cell_type": "markdown",
   "metadata": {},
   "source": [
    "All the binary variables have a value of 0 or 1 as expected (below)"
   ]
  },
  {
   "cell_type": "code",
   "execution_count": 7,
   "metadata": {
    "collapsed": false
   },
   "outputs": [
    {
     "name": "stdout",
     "output_type": "stream",
     "text": [
      "ps_ind_06_bin : [0 1]\n",
      "ps_ind_07_bin : [0 1]\n",
      "ps_ind_08_bin : [0 1]\n",
      "ps_ind_09_bin : [0 1]\n",
      "ps_ind_10_bin : [0 1]\n",
      "ps_ind_11_bin : [0 1]\n",
      "ps_ind_12_bin : [0 1]\n",
      "ps_ind_13_bin : [0 1]\n",
      "ps_ind_16_bin : [0 1]\n",
      "ps_ind_17_bin : [0 1]\n",
      "ps_ind_18_bin : [0 1]\n",
      "ps_calc_15_bin : [0 1]\n",
      "ps_calc_16_bin : [0 1]\n",
      "ps_calc_17_bin : [0 1]\n",
      "ps_calc_18_bin : [0 1]\n",
      "ps_calc_19_bin : [0 1]\n",
      "ps_calc_20_bin : [0 1]\n"
     ]
    }
   ],
   "source": [
    "for col in bin_cols:\n",
    "    print(str(col) + \" : \" + str(np.sort(data[col].unique())))"
   ]
  },
  {
   "cell_type": "code",
   "execution_count": 8,
   "metadata": {
    "collapsed": false
   },
   "outputs": [
    {
     "name": "stdout",
     "output_type": "stream",
     "text": [
      "id : 595212\n",
      "ps_reg_03 : 5013\n",
      "ps_car_12 : 184\n",
      "ps_car_13 : 70482\n",
      "ps_car_14 : 850\n"
     ]
    }
   ],
   "source": [
    "for col in cont_cols:\n",
    "    print(str(col) + \" : \" + str(len(data[col].unique())))"
   ]
  },
  {
   "cell_type": "code",
   "execution_count": 9,
   "metadata": {
    "collapsed": false
   },
   "outputs": [
    {
     "name": "stdout",
     "output_type": "stream",
     "text": [
      "id : 595212\n",
      "ps_reg_03 : 5013\n",
      "ps_car_12 : 184\n",
      "ps_car_13 : 70482\n",
      "ps_car_14 : 850\n"
     ]
    }
   ],
   "source": [
    "for col in cont_cols:\n",
    "    print(str(col) + \" : \" + str(len(data[col].unique())))"
   ]
  },
  {
   "cell_type": "code",
   "execution_count": 10,
   "metadata": {
    "collapsed": false
   },
   "outputs": [
    {
     "data": {
      "text/plain": [
       "0.036447517859182946"
      ]
     },
     "execution_count": 10,
     "metadata": {},
     "output_type": "execute_result"
    }
   ],
   "source": [
    "data[\"target\"].mean()"
   ]
  },
  {
   "cell_type": "markdown",
   "metadata": {},
   "source": [
    "The dataset description said that a value of -1 means missing value. Interestingly, the avg. target value for each of choices for each of the categorical values is less than 0.1 except when the value = -1!\n",
    "Seems like the people with missing info on the following variables are most likely to claim their insurance.\n",
    "- ps_ind_02_cat\n",
    "- ps_ind_04_cat\n",
    "- ps_car_01_cat\n",
    "\n",
    "However after looking at the frequency distribution of each variable, it looks like the high values of target for missing values is an artifact of the fact that very few entries are missing. Less data => more variability.  \n",
    "\n",
    "Also some variables that we identified as ordinal have recognizable probability distributions. For example normal, exponential and uniform distributions. \n",
    "ps_calc_14"
   ]
  },
  {
   "cell_type": "code",
   "execution_count": 11,
   "metadata": {
    "collapsed": false
   },
   "outputs": [
    {
     "data": {
      "image/png": "[encoded data removed]",
      "text/plain": [
       "<matplotlib.figure.Figure at 0x143354a8>"
      ]
     },
     "metadata": {},
     "output_type": "display_data"
    }
   ],
   "source": [
    "sns.heatmap(data.corr(),cmap='RdYlGn',linewidths=0.2, linecolor = 'k')\n",
    "fig=plt.gcf()\n",
    "fig.set_size_inches(18,15)\n",
    "plt.xticks(fontsize=9)\n",
    "plt.yticks(fontsize=9)\n",
    "plt.show()"
   ]
  },
  {
   "cell_type": "markdown",
   "metadata": {},
   "source": [
    "Some variables are mutually correlated. However no single variable has a strong correlation with 'target'. Lets visualize target on a finer scale of correlation to find the 'most correlated' columns. "
   ]
  },
  {
   "cell_type": "code",
   "execution_count": null,
   "metadata": {
    "collapsed": false,
    "scrolled": true
   },
   "outputs": [],
   "source": [
    "sns.heatmap(data.corr(),cmap='RdYlGn',linewidths=0.2, linecolor = 'k', vmin = -0.05, vmax = 0.05)\n",
    "fig=plt.gcf()\n",
    "fig.set_size_inches(18,15)\n",
    "plt.xticks(fontsize=9)\n",
    "plt.yticks(fontsize=9)\n",
    "plt.show()"
   ]
  },
  {
   "cell_type": "markdown",
   "metadata": {},
   "source": [
    "At this very fine correlation scale, we see some variables have some correlation with the target. Most striking observation is that none of the 'calc' variables is important! Maybe at some point we can throw all of these out to reduce dimensionality. "
   ]
  },
  {
   "cell_type": "markdown",
   "metadata": {},
   "source": [
    "# Classification"
   ]
  },
  {
   "cell_type": "markdown",
   "metadata": {},
   "source": [
    "- Data normalization\n",
    "- data split into train and cv set"
   ]
  },
  {
   "cell_type": "markdown",
   "metadata": {},
   "source": [
    "Code for gini (evaluation per the problem description). \n",
    "- For the best accuracy, we want a normalized gini score to be as close as possible to 1. \n",
    "- The gini score for a random classifier is 0. \n",
    "- Also, if we get a negative gini score, we can just reverse the outcome to get a positive gini score of the same magnitude. \n",
    "- Gini score is a good metric for a skewed dataset such as this one. \n",
    "- For the evaluation, it needs the 'probability' from the classifier, not just the prediction (0 or 1)! "
   ]
  },
  {
   "cell_type": "code",
   "execution_count": 12,
   "metadata": {
    "collapsed": false
   },
   "outputs": [],
   "source": [
    "def gini(actual, pred, cmpcol = 0, sortcol = 1):\n",
    "    assert( len(actual) == len(pred) )\n",
    "    all = np.asarray(np.c_[ actual, pred, np.arange(len(actual)) ], dtype=np.float)\n",
    "    all = all[ np.lexsort((all[:,2], -1*all[:,1])) ]\n",
    "    totalLosses = all[:,0].sum()\n",
    "    giniSum = all[:,0].cumsum().sum() / totalLosses\n",
    "    giniSum -= (len(actual) + 1) / 2.\n",
    "    return giniSum / len(actual)\n",
    " \n",
    "def gini_normalized(a, p):\n",
    "    return gini(a, p) / gini(a, a)"
   ]
  },
  {
   "cell_type": "markdown",
   "metadata": {},
   "source": [
    "Let's normalize the data using scikitlearn preprocessing. Each column will have a mean of 0 and variance of 1. \n",
    "The output of normalizing is a numpy array, so we convert it back into a pandas dataframe. Note that we will not be normalizing 'y' values. \n"
   ]
  },
  {
   "cell_type": "code",
   "execution_count": 13,
   "metadata": {
    "collapsed": false
   },
   "outputs": [
    {
     "name": "stdout",
     "output_type": "stream",
     "text": [
      "(595212L, 58L)\n"
     ]
    },
    {
     "data": {
      "text/html": [
       "<div>\n",
       "<table border=\"1\" class=\"dataframe\">\n",
       "  <thead>\n",
       "    <tr style=\"text-align: right;\">\n",
       "      <th></th>\n",
       "      <th>id</th>\n",
       "      <th>ps_ind_01</th>\n",
       "      <th>ps_ind_02_cat</th>\n",
       "      <th>ps_ind_03</th>\n",
       "      <th>ps_ind_04_cat</th>\n",
       "      <th>ps_ind_05_cat</th>\n",
       "      <th>ps_ind_06_bin</th>\n",
       "      <th>ps_ind_07_bin</th>\n",
       "      <th>ps_ind_08_bin</th>\n",
       "      <th>ps_ind_09_bin</th>\n",
       "      <th>...</th>\n",
       "      <th>ps_calc_12</th>\n",
       "      <th>ps_calc_13</th>\n",
       "      <th>ps_calc_14</th>\n",
       "      <th>ps_calc_15_bin</th>\n",
       "      <th>ps_calc_16_bin</th>\n",
       "      <th>ps_calc_17_bin</th>\n",
       "      <th>ps_calc_18_bin</th>\n",
       "      <th>ps_calc_19_bin</th>\n",
       "      <th>ps_calc_20_bin</th>\n",
       "      <th>target</th>\n",
       "    </tr>\n",
       "  </thead>\n",
       "  <tbody>\n",
       "    <tr>\n",
       "      <th>count</th>\n",
       "      <td>5.952120e+05</td>\n",
       "      <td>5.952120e+05</td>\n",
       "      <td>5.952120e+05</td>\n",
       "      <td>5.952120e+05</td>\n",
       "      <td>5.952120e+05</td>\n",
       "      <td>5.952120e+05</td>\n",
       "      <td>5.952120e+05</td>\n",
       "      <td>5.952120e+05</td>\n",
       "      <td>5.952120e+05</td>\n",
       "      <td>5.952120e+05</td>\n",
       "      <td>...</td>\n",
       "      <td>5.952120e+05</td>\n",
       "      <td>5.952120e+05</td>\n",
       "      <td>5.952120e+05</td>\n",
       "      <td>5.952120e+05</td>\n",
       "      <td>5.952120e+05</td>\n",
       "      <td>5.952120e+05</td>\n",
       "      <td>5.952120e+05</td>\n",
       "      <td>5.952120e+05</td>\n",
       "      <td>5.952120e+05</td>\n",
       "      <td>595212.000000</td>\n",
       "    </tr>\n",
       "    <tr>\n",
       "      <th>mean</th>\n",
       "      <td>5.189472e-16</td>\n",
       "      <td>5.665373e-16</td>\n",
       "      <td>1.166160e-15</td>\n",
       "      <td>1.964725e-15</td>\n",
       "      <td>-4.483140e-15</td>\n",
       "      <td>7.187288e-16</td>\n",
       "      <td>2.062436e-15</td>\n",
       "      <td>1.483968e-14</td>\n",
       "      <td>1.419165e-15</td>\n",
       "      <td>-1.496248e-15</td>\n",
       "      <td>...</td>\n",
       "      <td>-1.130574e-15</td>\n",
       "      <td>-8.993241e-18</td>\n",
       "      <td>-2.068966e-15</td>\n",
       "      <td>1.016694e-15</td>\n",
       "      <td>1.245145e-15</td>\n",
       "      <td>3.354911e-15</td>\n",
       "      <td>4.747812e-15</td>\n",
       "      <td>-8.254181e-16</td>\n",
       "      <td>1.230697e-15</td>\n",
       "      <td>0.036448</td>\n",
       "    </tr>\n",
       "    <tr>\n",
       "      <th>std</th>\n",
       "      <td>1.000001e+00</td>\n",
       "      <td>1.000001e+00</td>\n",
       "      <td>1.000001e+00</td>\n",
       "      <td>1.000001e+00</td>\n",
       "      <td>1.000001e+00</td>\n",
       "      <td>1.000001e+00</td>\n",
       "      <td>1.000001e+00</td>\n",
       "      <td>1.000001e+00</td>\n",
       "      <td>1.000001e+00</td>\n",
       "      <td>1.000001e+00</td>\n",
       "      <td>...</td>\n",
       "      <td>1.000001e+00</td>\n",
       "      <td>1.000001e+00</td>\n",
       "      <td>1.000001e+00</td>\n",
       "      <td>1.000001e+00</td>\n",
       "      <td>1.000001e+00</td>\n",
       "      <td>1.000001e+00</td>\n",
       "      <td>1.000001e+00</td>\n",
       "      <td>1.000001e+00</td>\n",
       "      <td>1.000001e+00</td>\n",
       "      <td>0.187401</td>\n",
       "    </tr>\n",
       "    <tr>\n",
       "      <th>min</th>\n",
       "      <td>-1.732308e+00</td>\n",
       "      <td>-9.579546e-01</td>\n",
       "      <td>-3.549452e+00</td>\n",
       "      <td>-1.638327e+00</td>\n",
       "      <td>-2.872011e+00</td>\n",
       "      <td>-1.040386e+00</td>\n",
       "      <td>-8.058926e-01</td>\n",
       "      <td>-5.881789e-01</td>\n",
       "      <td>-4.427864e-01</td>\n",
       "      <td>-4.769185e-01</td>\n",
       "      <td>...</td>\n",
       "      <td>-1.198640e+00</td>\n",
       "      <td>-1.694679e+00</td>\n",
       "      <td>-2.744809e+00</td>\n",
       "      <td>-3.735054e-01</td>\n",
       "      <td>-1.298852e+00</td>\n",
       "      <td>-1.114930e+00</td>\n",
       "      <td>-6.347299e-01</td>\n",
       "      <td>-7.322253e-01</td>\n",
       "      <td>-4.255369e-01</td>\n",
       "      <td>0.000000</td>\n",
       "    </tr>\n",
       "    <tr>\n",
       "      <th>25%</th>\n",
       "      <td>-8.659530e-01</td>\n",
       "      <td>-9.579546e-01</td>\n",
       "      <td>-5.400936e-01</td>\n",
       "      <td>-8.975586e-01</td>\n",
       "      <td>-8.448917e-01</td>\n",
       "      <td>-2.999971e-01</td>\n",
       "      <td>-8.058926e-01</td>\n",
       "      <td>-5.881789e-01</td>\n",
       "      <td>-4.427864e-01</td>\n",
       "      <td>-4.769185e-01</td>\n",
       "      <td>...</td>\n",
       "      <td>-3.673585e-01</td>\n",
       "      <td>-5.146587e-01</td>\n",
       "      <td>-5.603287e-01</td>\n",
       "      <td>-3.735054e-01</td>\n",
       "      <td>-1.298852e+00</td>\n",
       "      <td>-1.114930e+00</td>\n",
       "      <td>-6.347299e-01</td>\n",
       "      <td>-7.322253e-01</td>\n",
       "      <td>-4.255369e-01</td>\n",
       "      <td>0.000000</td>\n",
       "    </tr>\n",
       "    <tr>\n",
       "      <th>50%</th>\n",
       "      <td>-5.963620e-04</td>\n",
       "      <td>-4.538684e-01</td>\n",
       "      <td>-5.400936e-01</td>\n",
       "      <td>-1.567903e-01</td>\n",
       "      <td>-8.448917e-01</td>\n",
       "      <td>-2.999971e-01</td>\n",
       "      <td>-8.058926e-01</td>\n",
       "      <td>-5.881789e-01</td>\n",
       "      <td>-4.427864e-01</td>\n",
       "      <td>-4.769185e-01</td>\n",
       "      <td>...</td>\n",
       "      <td>-3.673585e-01</td>\n",
       "      <td>7.535169e-02</td>\n",
       "      <td>-1.962487e-01</td>\n",
       "      <td>-3.735054e-01</td>\n",
       "      <td>7.699104e-01</td>\n",
       "      <td>8.969170e-01</td>\n",
       "      <td>-6.347299e-01</td>\n",
       "      <td>-7.322253e-01</td>\n",
       "      <td>-4.255369e-01</td>\n",
       "      <td>0.000000</td>\n",
       "    </tr>\n",
       "    <tr>\n",
       "      <th>75%</th>\n",
       "      <td>8.657973e-01</td>\n",
       "      <td>5.543042e-01</td>\n",
       "      <td>9.645855e-01</td>\n",
       "      <td>5.839780e-01</td>\n",
       "      <td>1.182227e+00</td>\n",
       "      <td>-2.999971e-01</td>\n",
       "      <td>1.240860e+00</td>\n",
       "      <td>1.700163e+00</td>\n",
       "      <td>-4.427864e-01</td>\n",
       "      <td>-4.769185e-01</td>\n",
       "      <td>...</td>\n",
       "      <td>4.639233e-01</td>\n",
       "      <td>6.653621e-01</td>\n",
       "      <td>5.319112e-01</td>\n",
       "      <td>-3.735054e-01</td>\n",
       "      <td>7.699104e-01</td>\n",
       "      <td>8.969170e-01</td>\n",
       "      <td>1.575473e+00</td>\n",
       "      <td>1.365700e+00</td>\n",
       "      <td>-4.255369e-01</td>\n",
       "      <td>0.000000</td>\n",
       "    </tr>\n",
       "    <tr>\n",
       "      <th>max</th>\n",
       "      <td>1.733302e+00</td>\n",
       "      <td>2.570649e+00</td>\n",
       "      <td>3.973944e+00</td>\n",
       "      <td>2.435899e+00</td>\n",
       "      <td>1.182227e+00</td>\n",
       "      <td>4.142338e+00</td>\n",
       "      <td>1.240860e+00</td>\n",
       "      <td>1.700163e+00</td>\n",
       "      <td>2.258425e+00</td>\n",
       "      <td>2.096794e+00</td>\n",
       "      <td>...</td>\n",
       "      <td>7.114178e+00</td>\n",
       "      <td>5.975455e+00</td>\n",
       "      <td>5.629031e+00</td>\n",
       "      <td>2.677337e+00</td>\n",
       "      <td>7.699104e-01</td>\n",
       "      <td>8.969170e-01</td>\n",
       "      <td>1.575473e+00</td>\n",
       "      <td>1.365700e+00</td>\n",
       "      <td>2.349973e+00</td>\n",
       "      <td>1.000000</td>\n",
       "    </tr>\n",
       "  </tbody>\n",
       "</table>\n",
       "<p>8 rows × 59 columns</p>\n",
       "</div>"
      ],
      "text/plain": [
       "                 id     ps_ind_01  ps_ind_02_cat     ps_ind_03  ps_ind_04_cat  \\\n",
       "count  5.952120e+05  5.952120e+05   5.952120e+05  5.952120e+05   5.952120e+05   \n",
       "mean   5.189472e-16  5.665373e-16   1.166160e-15  1.964725e-15  -4.483140e-15   \n",
       "std    1.000001e+00  1.000001e+00   1.000001e+00  1.000001e+00   1.000001e+00   \n",
       "min   -1.732308e+00 -9.579546e-01  -3.549452e+00 -1.638327e+00  -2.872011e+00   \n",
       "25%   -8.659530e-01 -9.579546e-01  -5.400936e-01 -8.975586e-01  -8.448917e-01   \n",
       "50%   -5.963620e-04 -4.538684e-01  -5.400936e-01 -1.567903e-01  -8.448917e-01   \n",
       "75%    8.657973e-01  5.543042e-01   9.645855e-01  5.839780e-01   1.182227e+00   \n",
       "max    1.733302e+00  2.570649e+00   3.973944e+00  2.435899e+00   1.182227e+00   \n",
       "\n",
       "       ps_ind_05_cat  ps_ind_06_bin  ps_ind_07_bin  ps_ind_08_bin  \\\n",
       "count   5.952120e+05   5.952120e+05   5.952120e+05   5.952120e+05   \n",
       "mean    7.187288e-16   2.062436e-15   1.483968e-14   1.419165e-15   \n",
       "std     1.000001e+00   1.000001e+00   1.000001e+00   1.000001e+00   \n",
       "min    -1.040386e+00  -8.058926e-01  -5.881789e-01  -4.427864e-01   \n",
       "25%    -2.999971e-01  -8.058926e-01  -5.881789e-01  -4.427864e-01   \n",
       "50%    -2.999971e-01  -8.058926e-01  -5.881789e-01  -4.427864e-01   \n",
       "75%    -2.999971e-01   1.240860e+00   1.700163e+00  -4.427864e-01   \n",
       "max     4.142338e+00   1.240860e+00   1.700163e+00   2.258425e+00   \n",
       "\n",
       "       ps_ind_09_bin      ...          ps_calc_12    ps_calc_13    ps_calc_14  \\\n",
       "count   5.952120e+05      ...        5.952120e+05  5.952120e+05  5.952120e+05   \n",
       "mean   -1.496248e-15      ...       -1.130574e-15 -8.993241e-18 -2.068966e-15   \n",
       "std     1.000001e+00      ...        1.000001e+00  1.000001e+00  1.000001e+00   \n",
       "min    -4.769185e-01      ...       -1.198640e+00 -1.694679e+00 -2.744809e+00   \n",
       "25%    -4.769185e-01      ...       -3.673585e-01 -5.146587e-01 -5.603287e-01   \n",
       "50%    -4.769185e-01      ...       -3.673585e-01  7.535169e-02 -1.962487e-01   \n",
       "75%    -4.769185e-01      ...        4.639233e-01  6.653621e-01  5.319112e-01   \n",
       "max     2.096794e+00      ...        7.114178e+00  5.975455e+00  5.629031e+00   \n",
       "\n",
       "       ps_calc_15_bin  ps_calc_16_bin  ps_calc_17_bin  ps_calc_18_bin  \\\n",
       "count    5.952120e+05    5.952120e+05    5.952120e+05    5.952120e+05   \n",
       "mean     1.016694e-15    1.245145e-15    3.354911e-15    4.747812e-15   \n",
       "std      1.000001e+00    1.000001e+00    1.000001e+00    1.000001e+00   \n",
       "min     -3.735054e-01   -1.298852e+00   -1.114930e+00   -6.347299e-01   \n",
       "25%     -3.735054e-01   -1.298852e+00   -1.114930e+00   -6.347299e-01   \n",
       "50%     -3.735054e-01    7.699104e-01    8.969170e-01   -6.347299e-01   \n",
       "75%     -3.735054e-01    7.699104e-01    8.969170e-01    1.575473e+00   \n",
       "max      2.677337e+00    7.699104e-01    8.969170e-01    1.575473e+00   \n",
       "\n",
       "       ps_calc_19_bin  ps_calc_20_bin         target  \n",
       "count    5.952120e+05    5.952120e+05  595212.000000  \n",
       "mean    -8.254181e-16    1.230697e-15       0.036448  \n",
       "std      1.000001e+00    1.000001e+00       0.187401  \n",
       "min     -7.322253e-01   -4.255369e-01       0.000000  \n",
       "25%     -7.322253e-01   -4.255369e-01       0.000000  \n",
       "50%     -7.322253e-01   -4.255369e-01       0.000000  \n",
       "75%      1.365700e+00   -4.255369e-01       0.000000  \n",
       "max      1.365700e+00    2.349973e+00       1.000000  \n",
       "\n",
       "[8 rows x 59 columns]"
      ]
     },
     "execution_count": 13,
     "metadata": {},
     "output_type": "execute_result"
    }
   ],
   "source": [
    "from sklearn.preprocessing import StandardScaler\n",
    "scaler = StandardScaler()\n",
    "X_np = scaler.fit_transform(data.drop(\"target\", axis=1))\n",
    "print(X_np.shape)\n",
    "normalized_data = pd.DataFrame(data=X_np, columns=data.drop(\"target\", axis=1).columns)\n",
    "normalized_data = pd.concat([normalized_data, data[\"target\"]], axis=1)\n",
    "normalized_data.describe()"
   ]
  },
  {
   "cell_type": "code",
   "execution_count": 14,
   "metadata": {
    "collapsed": false
   },
   "outputs": [
    {
     "data": {
      "text/html": [
       "<div>\n",
       "<table border=\"1\" class=\"dataframe\">\n",
       "  <thead>\n",
       "    <tr style=\"text-align: right;\">\n",
       "      <th></th>\n",
       "      <th>id</th>\n",
       "      <th>ps_ind_01</th>\n",
       "      <th>ps_ind_02_cat</th>\n",
       "      <th>ps_ind_03</th>\n",
       "      <th>ps_ind_04_cat</th>\n",
       "      <th>ps_ind_05_cat</th>\n",
       "      <th>ps_ind_06_bin</th>\n",
       "      <th>ps_ind_07_bin</th>\n",
       "      <th>ps_ind_08_bin</th>\n",
       "      <th>ps_ind_09_bin</th>\n",
       "      <th>...</th>\n",
       "      <th>ps_calc_12</th>\n",
       "      <th>ps_calc_13</th>\n",
       "      <th>ps_calc_14</th>\n",
       "      <th>ps_calc_15_bin</th>\n",
       "      <th>ps_calc_16_bin</th>\n",
       "      <th>ps_calc_17_bin</th>\n",
       "      <th>ps_calc_18_bin</th>\n",
       "      <th>ps_calc_19_bin</th>\n",
       "      <th>ps_calc_20_bin</th>\n",
       "      <th>target</th>\n",
       "    </tr>\n",
       "  </thead>\n",
       "  <tbody>\n",
       "    <tr>\n",
       "      <th>count</th>\n",
       "      <td>535690.000000</td>\n",
       "      <td>535690.000000</td>\n",
       "      <td>535690.000000</td>\n",
       "      <td>535690.000000</td>\n",
       "      <td>535690.000000</td>\n",
       "      <td>535690.000000</td>\n",
       "      <td>535690.000000</td>\n",
       "      <td>535690.000000</td>\n",
       "      <td>535690.000000</td>\n",
       "      <td>535690.000000</td>\n",
       "      <td>...</td>\n",
       "      <td>535690.000000</td>\n",
       "      <td>535690.000000</td>\n",
       "      <td>535690.000000</td>\n",
       "      <td>535690.000000</td>\n",
       "      <td>535690.000000</td>\n",
       "      <td>535690.000000</td>\n",
       "      <td>535690.000000</td>\n",
       "      <td>535690.000000</td>\n",
       "      <td>535690.000000</td>\n",
       "      <td>535690.000000</td>\n",
       "    </tr>\n",
       "    <tr>\n",
       "      <th>mean</th>\n",
       "      <td>0.000359</td>\n",
       "      <td>0.000309</td>\n",
       "      <td>0.000149</td>\n",
       "      <td>-0.000197</td>\n",
       "      <td>0.000062</td>\n",
       "      <td>0.000406</td>\n",
       "      <td>0.000276</td>\n",
       "      <td>-0.000461</td>\n",
       "      <td>0.000529</td>\n",
       "      <td>-0.000333</td>\n",
       "      <td>...</td>\n",
       "      <td>0.000386</td>\n",
       "      <td>-0.000441</td>\n",
       "      <td>-0.000416</td>\n",
       "      <td>-0.000421</td>\n",
       "      <td>0.000627</td>\n",
       "      <td>-0.000552</td>\n",
       "      <td>0.000192</td>\n",
       "      <td>-0.000393</td>\n",
       "      <td>-0.000079</td>\n",
       "      <td>0.036448</td>\n",
       "    </tr>\n",
       "    <tr>\n",
       "      <th>std</th>\n",
       "      <td>1.000478</td>\n",
       "      <td>1.000135</td>\n",
       "      <td>1.000526</td>\n",
       "      <td>0.999514</td>\n",
       "      <td>1.000006</td>\n",
       "      <td>1.000799</td>\n",
       "      <td>1.000061</td>\n",
       "      <td>0.999745</td>\n",
       "      <td>1.000481</td>\n",
       "      <td>0.999731</td>\n",
       "      <td>...</td>\n",
       "      <td>1.000420</td>\n",
       "      <td>0.999760</td>\n",
       "      <td>0.999667</td>\n",
       "      <td>0.999516</td>\n",
       "      <td>0.999835</td>\n",
       "      <td>1.000061</td>\n",
       "      <td>1.000091</td>\n",
       "      <td>0.999876</td>\n",
       "      <td>0.999925</td>\n",
       "      <td>0.187403</td>\n",
       "    </tr>\n",
       "    <tr>\n",
       "      <th>min</th>\n",
       "      <td>-1.732308</td>\n",
       "      <td>-0.957955</td>\n",
       "      <td>-3.549452</td>\n",
       "      <td>-1.638327</td>\n",
       "      <td>-2.872011</td>\n",
       "      <td>-1.040386</td>\n",
       "      <td>-0.805893</td>\n",
       "      <td>-0.588179</td>\n",
       "      <td>-0.442786</td>\n",
       "      <td>-0.476919</td>\n",
       "      <td>...</td>\n",
       "      <td>-1.198640</td>\n",
       "      <td>-1.694679</td>\n",
       "      <td>-2.744809</td>\n",
       "      <td>-0.373505</td>\n",
       "      <td>-1.298852</td>\n",
       "      <td>-1.114930</td>\n",
       "      <td>-0.634730</td>\n",
       "      <td>-0.732225</td>\n",
       "      <td>-0.425537</td>\n",
       "      <td>0.000000</td>\n",
       "    </tr>\n",
       "    <tr>\n",
       "      <th>25%</th>\n",
       "      <td>-0.866053</td>\n",
       "      <td>-0.957955</td>\n",
       "      <td>-0.540094</td>\n",
       "      <td>-0.897559</td>\n",
       "      <td>-0.844892</td>\n",
       "      <td>-0.299997</td>\n",
       "      <td>-0.805893</td>\n",
       "      <td>-0.588179</td>\n",
       "      <td>-0.442786</td>\n",
       "      <td>-0.476919</td>\n",
       "      <td>...</td>\n",
       "      <td>-0.367359</td>\n",
       "      <td>-0.514659</td>\n",
       "      <td>-0.560329</td>\n",
       "      <td>-0.373505</td>\n",
       "      <td>-1.298852</td>\n",
       "      <td>-1.114930</td>\n",
       "      <td>-0.634730</td>\n",
       "      <td>-0.732225</td>\n",
       "      <td>-0.425537</td>\n",
       "      <td>0.000000</td>\n",
       "    </tr>\n",
       "    <tr>\n",
       "      <th>50%</th>\n",
       "      <td>-0.000273</td>\n",
       "      <td>-0.453868</td>\n",
       "      <td>-0.540094</td>\n",
       "      <td>-0.156790</td>\n",
       "      <td>-0.844892</td>\n",
       "      <td>-0.299997</td>\n",
       "      <td>-0.805893</td>\n",
       "      <td>-0.588179</td>\n",
       "      <td>-0.442786</td>\n",
       "      <td>-0.476919</td>\n",
       "      <td>...</td>\n",
       "      <td>-0.367359</td>\n",
       "      <td>0.075352</td>\n",
       "      <td>-0.196249</td>\n",
       "      <td>-0.373505</td>\n",
       "      <td>0.769910</td>\n",
       "      <td>0.896917</td>\n",
       "      <td>-0.634730</td>\n",
       "      <td>-0.732225</td>\n",
       "      <td>-0.425537</td>\n",
       "      <td>0.000000</td>\n",
       "    </tr>\n",
       "    <tr>\n",
       "      <th>75%</th>\n",
       "      <td>0.866825</td>\n",
       "      <td>0.554304</td>\n",
       "      <td>0.964585</td>\n",
       "      <td>0.583978</td>\n",
       "      <td>1.182227</td>\n",
       "      <td>-0.299997</td>\n",
       "      <td>1.240860</td>\n",
       "      <td>1.700163</td>\n",
       "      <td>-0.442786</td>\n",
       "      <td>-0.476919</td>\n",
       "      <td>...</td>\n",
       "      <td>0.463923</td>\n",
       "      <td>0.665362</td>\n",
       "      <td>0.531911</td>\n",
       "      <td>-0.373505</td>\n",
       "      <td>0.769910</td>\n",
       "      <td>0.896917</td>\n",
       "      <td>1.575473</td>\n",
       "      <td>1.365700</td>\n",
       "      <td>-0.425537</td>\n",
       "      <td>0.000000</td>\n",
       "    </tr>\n",
       "    <tr>\n",
       "      <th>max</th>\n",
       "      <td>1.733302</td>\n",
       "      <td>2.570649</td>\n",
       "      <td>3.973944</td>\n",
       "      <td>2.435899</td>\n",
       "      <td>1.182227</td>\n",
       "      <td>4.142338</td>\n",
       "      <td>1.240860</td>\n",
       "      <td>1.700163</td>\n",
       "      <td>2.258425</td>\n",
       "      <td>2.096794</td>\n",
       "      <td>...</td>\n",
       "      <td>7.114178</td>\n",
       "      <td>5.975455</td>\n",
       "      <td>5.629031</td>\n",
       "      <td>2.677337</td>\n",
       "      <td>0.769910</td>\n",
       "      <td>0.896917</td>\n",
       "      <td>1.575473</td>\n",
       "      <td>1.365700</td>\n",
       "      <td>2.349973</td>\n",
       "      <td>1.000000</td>\n",
       "    </tr>\n",
       "  </tbody>\n",
       "</table>\n",
       "<p>8 rows × 59 columns</p>\n",
       "</div>"
      ],
      "text/plain": [
       "                  id      ps_ind_01  ps_ind_02_cat      ps_ind_03  \\\n",
       "count  535690.000000  535690.000000  535690.000000  535690.000000   \n",
       "mean        0.000359       0.000309       0.000149      -0.000197   \n",
       "std         1.000478       1.000135       1.000526       0.999514   \n",
       "min        -1.732308      -0.957955      -3.549452      -1.638327   \n",
       "25%        -0.866053      -0.957955      -0.540094      -0.897559   \n",
       "50%        -0.000273      -0.453868      -0.540094      -0.156790   \n",
       "75%         0.866825       0.554304       0.964585       0.583978   \n",
       "max         1.733302       2.570649       3.973944       2.435899   \n",
       "\n",
       "       ps_ind_04_cat  ps_ind_05_cat  ps_ind_06_bin  ps_ind_07_bin  \\\n",
       "count  535690.000000  535690.000000  535690.000000  535690.000000   \n",
       "mean        0.000062       0.000406       0.000276      -0.000461   \n",
       "std         1.000006       1.000799       1.000061       0.999745   \n",
       "min        -2.872011      -1.040386      -0.805893      -0.588179   \n",
       "25%        -0.844892      -0.299997      -0.805893      -0.588179   \n",
       "50%        -0.844892      -0.299997      -0.805893      -0.588179   \n",
       "75%         1.182227      -0.299997       1.240860       1.700163   \n",
       "max         1.182227       4.142338       1.240860       1.700163   \n",
       "\n",
       "       ps_ind_08_bin  ps_ind_09_bin      ...           ps_calc_12  \\\n",
       "count  535690.000000  535690.000000      ...        535690.000000   \n",
       "mean        0.000529      -0.000333      ...             0.000386   \n",
       "std         1.000481       0.999731      ...             1.000420   \n",
       "min        -0.442786      -0.476919      ...            -1.198640   \n",
       "25%        -0.442786      -0.476919      ...            -0.367359   \n",
       "50%        -0.442786      -0.476919      ...            -0.367359   \n",
       "75%        -0.442786      -0.476919      ...             0.463923   \n",
       "max         2.258425       2.096794      ...             7.114178   \n",
       "\n",
       "          ps_calc_13     ps_calc_14  ps_calc_15_bin  ps_calc_16_bin  \\\n",
       "count  535690.000000  535690.000000   535690.000000   535690.000000   \n",
       "mean       -0.000441      -0.000416       -0.000421        0.000627   \n",
       "std         0.999760       0.999667        0.999516        0.999835   \n",
       "min        -1.694679      -2.744809       -0.373505       -1.298852   \n",
       "25%        -0.514659      -0.560329       -0.373505       -1.298852   \n",
       "50%         0.075352      -0.196249       -0.373505        0.769910   \n",
       "75%         0.665362       0.531911       -0.373505        0.769910   \n",
       "max         5.975455       5.629031        2.677337        0.769910   \n",
       "\n",
       "       ps_calc_17_bin  ps_calc_18_bin  ps_calc_19_bin  ps_calc_20_bin  \\\n",
       "count   535690.000000   535690.000000   535690.000000   535690.000000   \n",
       "mean        -0.000552        0.000192       -0.000393       -0.000079   \n",
       "std          1.000061        1.000091        0.999876        0.999925   \n",
       "min         -1.114930       -0.634730       -0.732225       -0.425537   \n",
       "25%         -1.114930       -0.634730       -0.732225       -0.425537   \n",
       "50%          0.896917       -0.634730       -0.732225       -0.425537   \n",
       "75%          0.896917        1.575473        1.365700       -0.425537   \n",
       "max          0.896917        1.575473        1.365700        2.349973   \n",
       "\n",
       "              target  \n",
       "count  535690.000000  \n",
       "mean        0.036448  \n",
       "std         0.187403  \n",
       "min         0.000000  \n",
       "25%         0.000000  \n",
       "50%         0.000000  \n",
       "75%         0.000000  \n",
       "max         1.000000  \n",
       "\n",
       "[8 rows x 59 columns]"
      ]
     },
     "execution_count": 14,
     "metadata": {},
     "output_type": "execute_result"
    }
   ],
   "source": [
    "train,cv=train_test_split(normalized_data,test_size = 0.1, random_state=0,stratify=normalized_data['target'])\n",
    "train.describe()"
   ]
  },
  {
   "cell_type": "markdown",
   "metadata": {},
   "source": [
    "1. Vanilla logistic regression has a gini score of 0.2066 - much better than a random classifier.\n",
    "2. The first strategy to deal with imbalanced dataset is using class_weight = \"balanced\" in the classifier. This will automatically give more weight to the few positives in the data. This results in a gini score of 0.22 - much better than a random classifier!"
   ]
  },
  {
   "cell_type": "code",
   "execution_count": 15,
   "metadata": {
    "collapsed": false
   },
   "outputs": [],
   "source": [
    "X_train = train.drop(\"target\", axis=1)\n",
    "y_train = train[\"target\"]\n",
    "X_cv = cv.drop(\"target\", axis = 1)\n",
    "y_cv = cv[\"target\"]\n",
    "estimator = LogisticRegression(C=1, class_weight = \"balanced\")\n",
    "#estimator = LogisticRegression(C=1)\n",
    "fit = estimator.fit(X_train, y_train)"
   ]
  },
  {
   "cell_type": "code",
   "execution_count": 16,
   "metadata": {
    "collapsed": false,
    "scrolled": true
   },
   "outputs": [
    {
     "name": "stdout",
     "output_type": "stream",
     "text": [
      "0.623970968717\n",
      "             precision    recall  f1-score   support\n",
      "\n",
      "          0       0.97      0.63      0.76     57353\n",
      "          1       0.05      0.53      0.09      2169\n",
      "\n",
      "avg / total       0.94      0.62      0.74     59522\n",
      "\n",
      "[0.25243584029479305, 0.22575467997214804]\n"
     ]
    }
   ],
   "source": [
    "\n",
    "score = fit.score(X_cv, y_cv)\n",
    "print(score)\n",
    "print(classification_report(y_cv, estimator.predict(X_cv)))\n",
    "gini_cv = gini_normalized(y_cv, estimator.predict_proba(X_cv)[:,1])\n",
    "gini_train = gini_normalized(y_train, estimator.predict_proba(X_train)[:,1])\n",
    "print([gini_train, gini_cv])"
   ]
  },
  {
   "cell_type": "markdown",
   "metadata": {},
   "source": [
    "Let's see if the C parameter (regularization) in logistic regression helps our cause."
   ]
  },
  {
   "cell_type": "code",
   "execution_count": null,
   "metadata": {
    "collapsed": false
   },
   "outputs": [],
   "source": [
    "estimator2 = LogisticRegression(C=.01, class_weight = \"balanced\")\n",
    "fit = estimator2.fit(X_train, y_train)"
   ]
  },
  {
   "cell_type": "code",
   "execution_count": null,
   "metadata": {
    "collapsed": false
   },
   "outputs": [],
   "source": [
    "score = fit.score(X_cv, y_cv)\n",
    "print(score)\n",
    "print(classification_report(y_cv, estimator2.predict(X_cv)))\n",
    "gini_cv = gini_normalized(y_cv, estimator2.predict_proba(X_cv)[:,1])\n",
    "gini_train = gini_normalized(y_train, estimator2.predict_proba(X_train)[:,1])\n",
    "print([gini_train, gini_cv])"
   ]
  },
  {
   "cell_type": "markdown",
   "metadata": {},
   "source": [
    "Pickle to save the fitted model (using joblib recommended by sklearn)"
   ]
  },
  {
   "cell_type": "code",
   "execution_count": null,
   "metadata": {
    "collapsed": false
   },
   "outputs": [],
   "source": [
    "joblib.dump(estimator, 'logistic_C1.pkl')"
   ]
  },
  {
   "cell_type": "code",
   "execution_count": null,
   "metadata": {
    "collapsed": true
   },
   "outputs": [],
   "source": [
    "clf = joblib.load('logistic_C1.pkl')"
   ]
  },
  {
   "cell_type": "code",
   "execution_count": null,
   "metadata": {
    "collapsed": false
   },
   "outputs": [],
   "source": [
    "print(classification_report(y_cv, clf.predict(X_cv)))"
   ]
  },
  {
   "cell_type": "markdown",
   "metadata": {},
   "source": [
    "3. The second strategy to deal with imbalance is to undersample the class with 97% data. "
   ]
  },
  {
   "cell_type": "code",
   "execution_count": 18,
   "metadata": {
    "collapsed": false
   },
   "outputs": [],
   "source": [
    "#results is a list of dictionaries\n",
    "def evaluate_clf(estimator, X_train, y_train, X_cv, y_cv, filename):\n",
    "    estimator_name = str(estimator).split(\"(\")[0]\n",
    "    fit = estimator.fit(X_train, y_train)\n",
    "    accuracy = fit.score(X_cv, y_cv)\n",
    "    gini_cv = gini_normalized(y_cv, estimator.predict_proba(X_cv)[:,1])\n",
    "    gini_train = gini_normalized(y_train, estimator.predict_proba(X_train)[:,1])\n",
    "    precision, recall, fscore, support = precision_recall_fscore_support(pd.Series(y_cv).values, estimator.predict(X_cv), pos_label=1, average='binary')\n",
    "    #print(precision)\n",
    "    filename = filename + '.pkl'\n",
    "    joblib.dump(estimator, filename)\n",
    "    results_list = [estimator_name, filename, accuracy, gini_cv, gini_train, precision, recall, fscore]\n",
    "    return results_list"
   ]
  },
  {
   "cell_type": "code",
   "execution_count": null,
   "metadata": {
    "collapsed": false
   },
   "outputs": [
    {
     "name": "stderr",
     "output_type": "stream",
     "text": [
      "C:\\Users\\Astha\\Anaconda2\\lib\\site-packages\\sklearn\\metrics\\classification.py:1113: UndefinedMetricWarning: Precision and F-score are ill-defined and being set to 0.0 due to no predicted samples.\n",
      "  'precision', 'predicted', average, warn_for)\n"
     ]
    },
    {
     "name": "stdout",
     "output_type": "stream",
     "text": [
      "['LogisticRegression', 'logistic_C1.pkl', 0.96355969221464333, 0.22441014777193297, 0.24984576101501441, 0.0, 0.0, 0.0]\n"
     ]
    }
   ],
   "source": [
    "cols = ['estimator_name', 'filename', 'accuracy', 'gini_cv', 'gini_train', 'precision', 'recall', 'fscore']\n",
    "results = pd.DataFrame([], columns = cols)\n",
    "estimators = [LogisticRegression(C = 0.01), svm.SVC(C = 1, kernel = 'rbf'), svm.SVC(kernel = 'linear'), DecisionTreeClassifier(max_depth = 3), KNeighborsClassifier(n_neighbors=3), RandomForestClassifier(max_depth=2, random_state=0)]\n",
    "filenames = ['logistic_C1', 'SVC_C1_rbf', 'SVC_C1_linear', 'DecTree_3', 'KNeigh_3', 'RandForest']\n",
    "for i in range(len(estimators)):\n",
    "    estimator = estimators[i]\n",
    "    filename = filenames[i]\n",
    "    results_list =  evaluate_clf(estimator, X_train, y_train, X_cv, y_cv, filename)\n",
    "    print(results_list)\n",
    "    df = pd.DataFrame([results_list], columns = cols)\n",
    "    results = pd.concat([results, df],ignore_index=True)\n",
    "\n",
    "print(results)"
   ]
  },
  {
   "cell_type": "code",
   "execution_count": null,
   "metadata": {
    "collapsed": false
   },
   "outputs": [],
   "source": [
    "clf = joblib.load(results['filename'].iloc[0])"
   ]
  },
  {
   "cell_type": "code",
   "execution_count": null,
   "metadata": {
    "collapsed": true
   },
   "outputs": [],
   "source": [
    "precision_recall_fscore_support(pd.Series(y_cv).values, estimator.predict(X_cv), pos_label=1, average='binary')"
   ]
  },
  {
   "cell_type": "code",
   "execution_count": null,
   "metadata": {
    "collapsed": true
   },
   "outputs": [],
   "source": [
    "pd.Series(y_cv).values"
   ]
  },
  {
   "cell_type": "code",
   "execution_count": null,
   "metadata": {
    "collapsed": true
   },
   "outputs": [],
   "source": []
  }
 ],
 "metadata": {
  "kernelspec": {
   "display_name": "Python 2",
   "language": "python",
   "name": "python2"
  },
  "language_info": {
   "codemirror_mode": {
    "name": "ipython",
    "version": 2
   },
   "file_extension": ".py",
   "mimetype": "text/x-python",
   "name": "python",
   "nbconvert_exporter": "python",
   "pygments_lexer": "ipython2",
   "version": "2.7.13"
  }
 },
 "nbformat": 4,
 "nbformat_minor": 2
}
