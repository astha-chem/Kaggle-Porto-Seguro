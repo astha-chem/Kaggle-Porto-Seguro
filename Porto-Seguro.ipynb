{
 "cells": [
  {
   "cell_type": "code",
   "execution_count": 1,
   "metadata": {
    "collapsed": true
   },
   "outputs": [],
   "source": [
    "import pandas as pd\n",
    "import numpy as np\n",
    "from matplotlib import pyplot as plt\n",
    "import seaborn as sns\n",
    "import csv\n",
    "import time\n",
    "from sklearn.linear_model import LogisticRegression #logistic regression\n",
    "from sklearn import svm #support vector Machine\n",
    "from sklearn.ensemble import RandomForestClassifier #Random Forest\n",
    "from sklearn.neighbors import KNeighborsClassifier #KNN\n",
    "from sklearn.naive_bayes import GaussianNB #Naive bayes\n",
    "from sklearn.tree import DecisionTreeClassifier #Decision Tree\n",
    "from sklearn.model_selection import train_test_split #training and testing data split\n",
    "from sklearn import metrics #accuracy measure\n",
    "from sklearn.metrics import confusion_matrix #for confusion matrix\n",
    "from sklearn import datasets, neighbors, linear_model, preprocessing\n",
    "from sklearn.model_selection import learning_curve, ShuffleSplit\n",
    "from sklearn.decomposition import PCA\n",
    "from sklearn.metrics import classification_report\n",
    "from sklearn.preprocessing import StandardScaler\n",
    "from sklearn.externals import joblib\n",
    "from sklearn.metrics import precision_recall_fscore_support\n",
    "from sklearn.cluster import MiniBatchKMeans, KMeans"
   ]
  },
  {
   "cell_type": "code",
   "execution_count": 24,
   "metadata": {
    "collapsed": false
   },
   "outputs": [
    {
     "data": {
      "text/html": [
       "<div>\n",
       "<table border=\"1\" class=\"dataframe\">\n",
       "  <thead>\n",
       "    <tr style=\"text-align: right;\">\n",
       "      <th></th>\n",
       "      <th>id</th>\n",
       "      <th>target</th>\n",
       "      <th>ps_ind_01</th>\n",
       "      <th>ps_ind_02_cat</th>\n",
       "      <th>ps_ind_03</th>\n",
       "      <th>ps_ind_04_cat</th>\n",
       "      <th>ps_ind_05_cat</th>\n",
       "      <th>ps_ind_06_bin</th>\n",
       "      <th>ps_ind_07_bin</th>\n",
       "      <th>ps_ind_08_bin</th>\n",
       "      <th>...</th>\n",
       "      <th>ps_calc_11</th>\n",
       "      <th>ps_calc_12</th>\n",
       "      <th>ps_calc_13</th>\n",
       "      <th>ps_calc_14</th>\n",
       "      <th>ps_calc_15_bin</th>\n",
       "      <th>ps_calc_16_bin</th>\n",
       "      <th>ps_calc_17_bin</th>\n",
       "      <th>ps_calc_18_bin</th>\n",
       "      <th>ps_calc_19_bin</th>\n",
       "      <th>ps_calc_20_bin</th>\n",
       "    </tr>\n",
       "  </thead>\n",
       "  <tbody>\n",
       "    <tr>\n",
       "      <th>0</th>\n",
       "      <td>7</td>\n",
       "      <td>0</td>\n",
       "      <td>2</td>\n",
       "      <td>2</td>\n",
       "      <td>5</td>\n",
       "      <td>1</td>\n",
       "      <td>0</td>\n",
       "      <td>0</td>\n",
       "      <td>1</td>\n",
       "      <td>0</td>\n",
       "      <td>...</td>\n",
       "      <td>9</td>\n",
       "      <td>1</td>\n",
       "      <td>5</td>\n",
       "      <td>8</td>\n",
       "      <td>0</td>\n",
       "      <td>1</td>\n",
       "      <td>1</td>\n",
       "      <td>0</td>\n",
       "      <td>0</td>\n",
       "      <td>1</td>\n",
       "    </tr>\n",
       "    <tr>\n",
       "      <th>1</th>\n",
       "      <td>9</td>\n",
       "      <td>0</td>\n",
       "      <td>1</td>\n",
       "      <td>1</td>\n",
       "      <td>7</td>\n",
       "      <td>0</td>\n",
       "      <td>0</td>\n",
       "      <td>0</td>\n",
       "      <td>0</td>\n",
       "      <td>1</td>\n",
       "      <td>...</td>\n",
       "      <td>3</td>\n",
       "      <td>1</td>\n",
       "      <td>1</td>\n",
       "      <td>9</td>\n",
       "      <td>0</td>\n",
       "      <td>1</td>\n",
       "      <td>1</td>\n",
       "      <td>0</td>\n",
       "      <td>1</td>\n",
       "      <td>0</td>\n",
       "    </tr>\n",
       "    <tr>\n",
       "      <th>2</th>\n",
       "      <td>13</td>\n",
       "      <td>0</td>\n",
       "      <td>5</td>\n",
       "      <td>4</td>\n",
       "      <td>9</td>\n",
       "      <td>1</td>\n",
       "      <td>0</td>\n",
       "      <td>0</td>\n",
       "      <td>0</td>\n",
       "      <td>1</td>\n",
       "      <td>...</td>\n",
       "      <td>4</td>\n",
       "      <td>2</td>\n",
       "      <td>7</td>\n",
       "      <td>7</td>\n",
       "      <td>0</td>\n",
       "      <td>1</td>\n",
       "      <td>1</td>\n",
       "      <td>0</td>\n",
       "      <td>1</td>\n",
       "      <td>0</td>\n",
       "    </tr>\n",
       "    <tr>\n",
       "      <th>3</th>\n",
       "      <td>16</td>\n",
       "      <td>0</td>\n",
       "      <td>0</td>\n",
       "      <td>1</td>\n",
       "      <td>2</td>\n",
       "      <td>0</td>\n",
       "      <td>0</td>\n",
       "      <td>1</td>\n",
       "      <td>0</td>\n",
       "      <td>0</td>\n",
       "      <td>...</td>\n",
       "      <td>2</td>\n",
       "      <td>2</td>\n",
       "      <td>4</td>\n",
       "      <td>9</td>\n",
       "      <td>0</td>\n",
       "      <td>0</td>\n",
       "      <td>0</td>\n",
       "      <td>0</td>\n",
       "      <td>0</td>\n",
       "      <td>0</td>\n",
       "    </tr>\n",
       "    <tr>\n",
       "      <th>4</th>\n",
       "      <td>17</td>\n",
       "      <td>0</td>\n",
       "      <td>0</td>\n",
       "      <td>2</td>\n",
       "      <td>0</td>\n",
       "      <td>1</td>\n",
       "      <td>0</td>\n",
       "      <td>1</td>\n",
       "      <td>0</td>\n",
       "      <td>0</td>\n",
       "      <td>...</td>\n",
       "      <td>3</td>\n",
       "      <td>1</td>\n",
       "      <td>1</td>\n",
       "      <td>3</td>\n",
       "      <td>0</td>\n",
       "      <td>0</td>\n",
       "      <td>0</td>\n",
       "      <td>1</td>\n",
       "      <td>1</td>\n",
       "      <td>0</td>\n",
       "    </tr>\n",
       "  </tbody>\n",
       "</table>\n",
       "<p>5 rows × 59 columns</p>\n",
       "</div>"
      ],
      "text/plain": [
       "   id  target  ps_ind_01  ps_ind_02_cat  ps_ind_03  ps_ind_04_cat  \\\n",
       "0   7       0          2              2          5              1   \n",
       "1   9       0          1              1          7              0   \n",
       "2  13       0          5              4          9              1   \n",
       "3  16       0          0              1          2              0   \n",
       "4  17       0          0              2          0              1   \n",
       "\n",
       "   ps_ind_05_cat  ps_ind_06_bin  ps_ind_07_bin  ps_ind_08_bin       ...        \\\n",
       "0              0              0              1              0       ...         \n",
       "1              0              0              0              1       ...         \n",
       "2              0              0              0              1       ...         \n",
       "3              0              1              0              0       ...         \n",
       "4              0              1              0              0       ...         \n",
       "\n",
       "   ps_calc_11  ps_calc_12  ps_calc_13  ps_calc_14  ps_calc_15_bin  \\\n",
       "0           9           1           5           8               0   \n",
       "1           3           1           1           9               0   \n",
       "2           4           2           7           7               0   \n",
       "3           2           2           4           9               0   \n",
       "4           3           1           1           3               0   \n",
       "\n",
       "   ps_calc_16_bin  ps_calc_17_bin  ps_calc_18_bin  ps_calc_19_bin  \\\n",
       "0               1               1               0               0   \n",
       "1               1               1               0               1   \n",
       "2               1               1               0               1   \n",
       "3               0               0               0               0   \n",
       "4               0               0               1               1   \n",
       "\n",
       "   ps_calc_20_bin  \n",
       "0               1  \n",
       "1               0  \n",
       "2               0  \n",
       "3               0  \n",
       "4               0  \n",
       "\n",
       "[5 rows x 59 columns]"
      ]
     },
     "execution_count": 24,
     "metadata": {},
     "output_type": "execute_result"
    }
   ],
   "source": [
    "data = pd.read_csv(\"train.csv\")\n",
    "data.head()"
   ]
  },
  {
   "cell_type": "code",
   "execution_count": null,
   "metadata": {
    "collapsed": false
   },
   "outputs": [],
   "source": [
    "data[\"target\"].mean()"
   ]
  },
  {
   "cell_type": "markdown",
   "metadata": {},
   "source": [
    "# Classification"
   ]
  },
  {
   "cell_type": "markdown",
   "metadata": {},
   "source": [
    "- Data normalization\n",
    "- data split into train and cv set"
   ]
  },
  {
   "cell_type": "markdown",
   "metadata": {},
   "source": [
    "Code for gini (evaluation per the problem description). \n",
    "- For the best accuracy, we want a normalized gini score to be as close as possible to 1. \n",
    "- The gini score for a random classifier is 0. \n",
    "- Also, if we get a negative gini score, we can just reverse the outcome to get a positive gini score of the same magnitude. \n",
    "- Gini score is a good metric for a skewed dataset such as this one. \n",
    "- For the evaluation, it needs the 'probability' from the classifier, not just the prediction (0 or 1)! "
   ]
  },
  {
   "cell_type": "code",
   "execution_count": 3,
   "metadata": {
    "collapsed": true
   },
   "outputs": [],
   "source": [
    "#helper functions\n",
    "def gini(actual, pred, cmpcol = 0, sortcol = 1):\n",
    "    assert( len(actual) == len(pred) )\n",
    "    all = np.asarray(np.c_[ actual, pred, np.arange(len(actual)) ], dtype=np.float)\n",
    "    all = all[ np.lexsort((all[:,2], -1*all[:,1])) ]\n",
    "    totalLosses = all[:,0].sum()\n",
    "    giniSum = all[:,0].cumsum().sum() / totalLosses\n",
    "    giniSum -= (len(actual) + 1) / 2.\n",
    "    return giniSum / len(actual)\n",
    " \n",
    "def gini_normalized(a, p):\n",
    "    return gini(a, p) / gini(a, a)\n",
    "\n",
    "#results is a list of dictionaries\n",
    "def evaluate_clf(estimator, X_train, y_train, X_cv, y_cv, filename):\n",
    "    estimator_name = str(estimator).split(\"(\")[0]\n",
    "    fit = estimator.fit(X_train, y_train)\n",
    "    accuracy = fit.score(X_cv, y_cv)\n",
    "    gini_cv = gini_normalized(y_cv, estimator.predict_proba(X_cv)[:,1])\n",
    "    gini_train = gini_normalized(y_train, estimator.predict_proba(X_train)[:,1])\n",
    "    precision, recall, fscore, support = precision_recall_fscore_support(pd.Series(y_cv).values, estimator.predict(X_cv), pos_label=1, average='binary')\n",
    "    #print(precision)\n",
    "    filename = filename + '.pkl'\n",
    "    joblib.dump(estimator, filename)\n",
    "    results_list = [estimator_name, filename, accuracy, gini_cv, gini_train, precision, recall, fscore]\n",
    "    return results_list"
   ]
  },
  {
   "cell_type": "markdown",
   "metadata": {},
   "source": [
    "Let's normalize the data using scikitlearn preprocessing. Each column will have a mean of 0 and variance of 1. \n",
    "The output of normalizing is a numpy array, so we convert it back into a pandas dataframe. Note that we will not be normalizing 'y' values. \n"
   ]
  },
  {
   "cell_type": "code",
   "execution_count": 30,
   "metadata": {
    "collapsed": false
   },
   "outputs": [
    {
     "name": "stdout",
     "output_type": "stream",
     "text": [
      "(595212L, 58L)\n"
     ]
    }
   ],
   "source": [
    "scaler = StandardScaler()\n",
    "X_np = scaler.fit_transform(data.drop(\"target\", axis=1))\n",
    "print(X_np.shape)\n",
    "normalized_data = pd.DataFrame(data=X_np, columns=data.drop(\"target\", axis=1).columns)\n",
    "normalized_data = pd.concat([normalized_data, data[\"target\"]], axis=1)\n",
    "normalized_data.describe()\n",
    "train,cv=train_test_split(normalized_data,test_size = 0.1, random_state=0,stratify=normalized_data['target'])\n",
    "train.describe()\n",
    "X_train = train.drop(\"target\", axis=1)\n",
    "y_train = train[\"target\"]\n",
    "X_cv = cv.drop(\"target\", axis = 1)\n",
    "y_cv = cv[\"target\"]"
   ]
  },
  {
   "cell_type": "markdown",
   "metadata": {},
   "source": [
    "1. Vanilla logistic regression has a gini score of 0.2066 - much better than a random classifier.\n",
    "2. The first strategy to deal with imbalanced dataset is using class_weight = \"balanced\" in the classifier. This will automatically give more weight to the few positives in the data. This results in a gini score of 0.22 - much better than a random classifier!"
   ]
  },
  {
   "cell_type": "code",
   "execution_count": null,
   "metadata": {
    "collapsed": false
   },
   "outputs": [],
   "source": [
    "#trial run\n",
    "estimator = LogisticRegression(C=1, class_weight = \"balanced\")\n",
    "#estimator = LogisticRegression(C=1)\n",
    "fit = estimator.fit(X_train, y_train)\n",
    "score = fit.score(X_cv, y_cv)\n",
    "print(score)\n",
    "print(classification_report(y_cv, estimator.predict(X_cv)))\n",
    "gini_cv = gini_normalized(y_cv, estimator.predict_proba(X_cv)[:,1])\n",
    "gini_train = gini_normalized(y_train, estimator.predict_proba(X_train)[:,1])\n",
    "print([gini_train, gini_cv])"
   ]
  },
  {
   "cell_type": "code",
   "execution_count": null,
   "metadata": {
    "collapsed": true
   },
   "outputs": [],
   "source": [
    "cols = ['estimator_name', 'filename', 'accuracy', 'gini_cv', 'gini_train', 'precision', 'recall', 'fscore']\n",
    "results_file = open('resultsfile.csv','a+')\n",
    "line = \",\".join(cols)\n",
    "results_file.write(line + '\\n')\n",
    "results_file.close()\n",
    "results = pd.DataFrame([], columns = cols)"
   ]
  },
  {
   "cell_type": "code",
   "execution_count": null,
   "metadata": {
    "collapsed": true,
    "scrolled": true
   },
   "outputs": [],
   "source": [
    "estimators = [LogisticRegression(C = 1, class_weight = \"balanced\"), svm.LinearSVC(class_weight = \"balanced\", verbose = 2), DecisionTreeClassifier(max_depth = 3, class_weight = \"balanced\"),DecisionTreeClassifier(max_depth = 5, class_weight = \"balanced\"), RandomForestClassifier(max_depth=2, random_state=0, class_weight = \"balanced\", verbose = 2), KNeighborsClassifier(n_neighbors=3)]\n",
    "filenames = ['logistic_C1', 'SVC_C1_linear', 'DecTree_3','DecTree_5','RandForest', 'KNeigh_3']\n",
    "\n",
    "#for i in range(2,len(estimators)):\n",
    "for i in [0,2,3,4]:\n",
    "    estimator = estimators[i]\n",
    "    filename = filenames[i]\n",
    "    results_list =  evaluate_clf(estimator, X_train, y_train, X_cv, y_cv, filename)\n",
    "    print(results_list)\n",
    "    df = pd.DataFrame([results_list], columns = cols)\n",
    "    results = pd.concat([results, df],ignore_index=True)\n",
    "    line = str(results_list)[1:-1]\n",
    "    results_file = open('resultsfile.csv','a')\n",
    "    results_file.write(line + '\\n')\n",
    "    results_file.close()\n",
    "    \n",
    "print(results)"
   ]
  },
  {
   "cell_type": "code",
   "execution_count": null,
   "metadata": {
    "collapsed": true
   },
   "outputs": [],
   "source": [
    "i=1\n",
    "estimator = estimators[i]\n",
    "filename = filenames[i]\n",
    "results_list =  evaluate_clf(estimator, X_train, y_train, X_cv, y_cv, filename)\n",
    "print(results_list)\n",
    "df = pd.DataFrame([results_list], columns = cols)\n",
    "results = pd.concat([results, df],ignore_index=True)"
   ]
  },
  {
   "cell_type": "code",
   "execution_count": null,
   "metadata": {
    "collapsed": true
   },
   "outputs": [],
   "source": [
    "clf = joblib.load(results['filename'].iloc[0])"
   ]
  },
  {
   "cell_type": "code",
   "execution_count": null,
   "metadata": {
    "collapsed": true,
    "scrolled": false
   },
   "outputs": [],
   "source": [
    "mbk = MiniBatchKMeans(init='k-means++', n_clusters=8, batch_size=1000,\n",
    "                      n_init=10, max_no_improvement=10, verbose=2)\n",
    "t0 = time.time()\n",
    "mbk.fit(X_train)\n",
    "t_mini_batch = time.time() - t0"
   ]
  },
  {
   "cell_type": "markdown",
   "metadata": {},
   "source": [
    "# Feature reduction"
   ]
  },
  {
   "cell_type": "code",
   "execution_count": null,
   "metadata": {
    "collapsed": true
   },
   "outputs": [],
   "source": [
    "data = pd.read_csv(\"train.csv\")\n",
    "cols_trimmed = [x for x in data.columns if 'calc' not in x]\n",
    "data_1 = data[cols_trimmed]\n",
    "scaler = StandardScaler()\n",
    "X_np = scaler.fit_transform(data_1.drop(\"target\", axis=1))\n",
    "print(X_np.shape)\n",
    "norm_X_data_1 = pd.DataFrame(data=X_np, columns=data_1.drop(\"target\", axis=1).columns)\n",
    "#normalized_data = pd.concat([normalized_data, data[\"target\"]], axis=1)\n",
    "norm_X_data_1.describe()"
   ]
  },
  {
   "cell_type": "markdown",
   "metadata": {},
   "source": [
    "# Visualization"
   ]
  },
  {
   "cell_type": "code",
   "execution_count": null,
   "metadata": {
    "collapsed": false,
    "scrolled": true
   },
   "outputs": [],
   "source": [
    "pca = PCA(n_components=30, svd_solver='full', random_state=1001)\n",
    "X = pca.fit_transform(normalized_data.drop(['id', 'target'], axis = 1))\n",
    "print(pca.explained_variance_ratio_.sum())\n",
    "pca.explained_variance_ratio_\n",
    "print(pca.explained_variance_ratio_[:2].sum())"
   ]
  },
  {
   "cell_type": "code",
   "execution_count": 54,
   "metadata": {
    "collapsed": false
   },
   "outputs": [
    {
     "data": {
      "image/png": "[encoded data removed]",
      "text/plain": [
       "<matplotlib.figure.Figure at 0x61aa4dd8>"
      ]
     },
     "metadata": {},
     "output_type": "display_data"
    }
   ],
   "source": [
    "y = data['target'].values.astype(np.int8)\n",
    "colors = ['b', 'r']\n",
    "target_names = np.unique(y)\n",
    "for color, i, target_name in zip(colors, [0, 1], target_names):\n",
    "    plt.scatter(X[y == i, 0], X[y == i, 1], color=color, s=1,\n",
    "                alpha=.8, label=target_name, marker='.')\n",
    "plt.legend(loc='best', shadow=False, scatterpoints=3)\n",
    "plt.title(\n",
    "        \"Scatter plot of the training data projected on the 1st \"\n",
    "        \"and 2nd principal components\")\n",
    "plt.xlabel(\"Principal axis 1 - Explains %.1f %% of the variance\" % (\n",
    "        pca.explained_variance_ratio_[0] * 100.0))\n",
    "plt.ylabel(\"Principal axis 2 - Explains %.1f %% of the variance\" % (\n",
    "        pca.explained_variance_ratio_[1] * 100.0))\n",
    "\n",
    "plt.savefig('pca-data.png', dpi=150)\n",
    "plt.show()"
   ]
  },
  {
   "cell_type": "code",
   "execution_count": 46,
   "metadata": {
    "collapsed": false
   },
   "outputs": [
    {
     "name": "stdout",
     "output_type": "stream",
     "text": [
      "0.789808839812\n",
      "0.167850913212\n"
     ]
    }
   ],
   "source": [
    "pca = PCA(n_components=20, svd_solver='full', random_state=1001)\n",
    "X = pca.fit_transform(norm_X_data_1.drop(['id'], axis = 1))\n",
    "print(pca.explained_variance_ratio_.sum())\n",
    "pca.explained_variance_ratio_\n",
    "print(pca.explained_variance_ratio_[:2].sum())"
   ]
  },
  {
   "cell_type": "code",
   "execution_count": 55,
   "metadata": {
    "collapsed": false,
    "scrolled": true
   },
   "outputs": [
    {
     "data": {
      "image/png": "[encoded data removed]",
      "text/plain": [
       "<matplotlib.figure.Figure at 0x64bd8ef0>"
      ]
     },
     "metadata": {},
     "output_type": "display_data"
    }
   ],
   "source": [
    "y = data_1['target'].values.astype(np.int8)\n",
    "colors = ['b', 'r']\n",
    "target_names = np.unique(y)\n",
    "for color, i, target_name in zip(colors, [0, 1], target_names):\n",
    "#for color, i, target_name in zip([colors[0]], [0], [target_names[0]]):\n",
    "    plt.scatter(X[y == i, 0], X[y == i, 1], color=color, s=1,\n",
    "                alpha=.8, label=target_name, marker='.')\n",
    "plt.legend(loc='best', shadow=False, scatterpoints=3)\n",
    "plt.title(\n",
    "        \"Scatter plot of the training data projected on the 1st \"\n",
    "        \"and 2nd principal components\")\n",
    "plt.xlabel(\"Principal axis 1 - Explains %.1f %% of the variance\" % (\n",
    "        pca.explained_variance_ratio_[0] * 100.0))\n",
    "plt.ylabel(\"Principal axis 2 - Explains %.1f %% of the variance\" % (\n",
    "        pca.explained_variance_ratio_[1] * 100.0))\n",
    "\n",
    "#plt.savefig('pca-porto-03.png', dpi=150)\n",
    "plt.show()"
   ]
  },
  {
   "cell_type": "code",
   "execution_count": 56,
   "metadata": {
    "collapsed": false
   },
   "outputs": [
    {
     "data": {
      "image/png": "[encoded data removed]",
      "text/plain": [
       "<matplotlib.figure.Figure at 0x5ec877b8>"
      ]
     },
     "metadata": {},
     "output_type": "display_data"
    }
   ],
   "source": [
    "y = data_1['target'].values.astype(np.int8)\n",
    "colors = ['b', 'r']\n",
    "target_names = np.unique(y)\n",
    "#for color, i, target_name in zip(colors, [0, 1], target_names):\n",
    "for color, i, target_name in zip([colors[0]], [0], [target_names[0]]):\n",
    "    plt.scatter(X[y == i, 0], X[y == i, 1], color=color, s=1,\n",
    "                alpha=.8, label=target_name, marker='.')\n",
    "plt.legend(loc='best', shadow=False, scatterpoints=3)\n",
    "plt.title(\n",
    "        \"Scatter plot of the training data projected on the 1st \"\n",
    "        \"and 2nd principal components\")\n",
    "plt.xlabel(\"Principal axis 1 - Explains %.1f %% of the variance\" % (\n",
    "        pca.explained_variance_ratio_[0] * 100.0))\n",
    "plt.ylabel(\"Principal axis 2 - Explains %.1f %% of the variance\" % (\n",
    "        pca.explained_variance_ratio_[1] * 100.0))\n",
    "\n",
    "#plt.savefig('pca-porto-03.png', dpi=150)\n",
    "plt.show()"
   ]
  },
  {
   "cell_type": "markdown",
   "metadata": {},
   "source": [
    "We tried to visualize the data by doing a PCA. Selecting 20 features on the original dataset after normalization explains ~50% of the variability. For the reduced and normalized dataset - data_1, we can explain 79% of the variability. In the visualization in 2D, we will only be able to see 16.7 % of the variability. \n",
    "\n",
    "Plotting the data in 2D shows that the points labeled 1 clearly lie in the red cluster. Bad news is, this cluster lies entirely on top of the blue cluster - there is no separation! Perhaps this is why we were not able to reach accuracies higher than ~50%. \n"
   ]
  },
  {
   "cell_type": "markdown",
   "metadata": {},
   "source": [
    "After removing the calc features, we are able to capture 34% of the variability by choosing 5 principal components, but this is still not high enough to give a faithful representation of our data in 2D. \n",
    "\n",
    "We tried to visualize with t-SNE which can discover more complex features, but the code was aborted because too slow. "
   ]
  },
  {
   "cell_type": "code",
   "execution_count": null,
   "metadata": {
    "collapsed": true
   },
   "outputs": [],
   "source": [
    "from sklearn.manifold import TSNE\n",
    "\n",
    "tsne = TSNE(n_components=2, perplexity=50.0, learning_rate=200.0, n_iter=1000, n_iter_without_progress=300, random_state=0)\n",
    "tsne.fit_transform(X)"
   ]
  },
  {
   "cell_type": "markdown",
   "metadata": {},
   "source": [
    "# Imbalanced Learn"
   ]
  },
  {
   "cell_type": "markdown",
   "metadata": {},
   "source": [
    "With the current dataset, linearSVM and kneighbors are both too slow - could not get them to run at all on my machine. Let us simplify the dataset.\n",
    "1. Features - remove all features that have calc in the name - as we had seen earlier using our heatmaps, these features have 0 correlation with the target.\n",
    "2. balancing the data. We will choose all of the row that have target = 1 and choose that number of rows with target = 0. So we will go from an imbalance of 1:32 to 1:1. Our data will also be a lot smaller, so should be much easier to train."
   ]
  },
  {
   "cell_type": "code",
   "execution_count": 8,
   "metadata": {
    "collapsed": false
   },
   "outputs": [
    {
     "name": "stdout",
     "output_type": "stream",
     "text": [
      "[(0, 21694), (1, 21694)]\n"
     ]
    }
   ],
   "source": [
    "from collections import Counter\n",
    "from imblearn import under_sampling, over_sampling\n",
    "from imblearn.under_sampling import RandomUnderSampler\n",
    "rus = RandomUnderSampler(ratio='majority', return_indices=False, random_state=None, replacement=False)\n",
    "X_resampled, y_resampled = rus.fit_sample(data_1.drop('target', axis = 1), data_1['target'])\n",
    "print(sorted(Counter(y_resampled).items()))"
   ]
  },
  {
   "cell_type": "code",
   "execution_count": 9,
   "metadata": {
    "collapsed": false
   },
   "outputs": [
    {
     "data": {
      "text/html": [
       "<div>\n",
       "<table border=\"1\" class=\"dataframe\">\n",
       "  <thead>\n",
       "    <tr style=\"text-align: right;\">\n",
       "      <th></th>\n",
       "      <th>id</th>\n",
       "      <th>ps_ind_01</th>\n",
       "      <th>ps_ind_02_cat</th>\n",
       "      <th>ps_ind_03</th>\n",
       "      <th>ps_ind_04_cat</th>\n",
       "      <th>ps_ind_05_cat</th>\n",
       "      <th>ps_ind_06_bin</th>\n",
       "      <th>ps_ind_07_bin</th>\n",
       "      <th>ps_ind_08_bin</th>\n",
       "      <th>ps_ind_09_bin</th>\n",
       "      <th>...</th>\n",
       "      <th>ps_car_08_cat</th>\n",
       "      <th>ps_car_09_cat</th>\n",
       "      <th>ps_car_10_cat</th>\n",
       "      <th>ps_car_11_cat</th>\n",
       "      <th>ps_car_11</th>\n",
       "      <th>ps_car_12</th>\n",
       "      <th>ps_car_13</th>\n",
       "      <th>ps_car_14</th>\n",
       "      <th>ps_car_15</th>\n",
       "      <th>target</th>\n",
       "    </tr>\n",
       "  </thead>\n",
       "  <tbody>\n",
       "    <tr>\n",
       "      <th>count</th>\n",
       "      <td>4.338800e+04</td>\n",
       "      <td>4.338800e+04</td>\n",
       "      <td>4.338800e+04</td>\n",
       "      <td>4.338800e+04</td>\n",
       "      <td>4.338800e+04</td>\n",
       "      <td>4.338800e+04</td>\n",
       "      <td>4.338800e+04</td>\n",
       "      <td>4.338800e+04</td>\n",
       "      <td>4.338800e+04</td>\n",
       "      <td>4.338800e+04</td>\n",
       "      <td>...</td>\n",
       "      <td>4.338800e+04</td>\n",
       "      <td>4.338800e+04</td>\n",
       "      <td>4.338800e+04</td>\n",
       "      <td>4.338800e+04</td>\n",
       "      <td>4.338800e+04</td>\n",
       "      <td>4.338800e+04</td>\n",
       "      <td>4.338800e+04</td>\n",
       "      <td>4.338800e+04</td>\n",
       "      <td>4.338800e+04</td>\n",
       "      <td>43388.000000</td>\n",
       "    </tr>\n",
       "    <tr>\n",
       "      <th>mean</th>\n",
       "      <td>-3.699447e-16</td>\n",
       "      <td>9.170545e-15</td>\n",
       "      <td>3.403964e-15</td>\n",
       "      <td>-7.386786e-15</td>\n",
       "      <td>-1.583314e-15</td>\n",
       "      <td>-2.287581e-14</td>\n",
       "      <td>-2.098982e-14</td>\n",
       "      <td>-2.452268e-14</td>\n",
       "      <td>-2.210917e-15</td>\n",
       "      <td>3.629107e-15</td>\n",
       "      <td>...</td>\n",
       "      <td>-1.719607e-16</td>\n",
       "      <td>-1.110981e-14</td>\n",
       "      <td>2.284687e-15</td>\n",
       "      <td>1.283439e-15</td>\n",
       "      <td>1.331024e-15</td>\n",
       "      <td>1.065338e-12</td>\n",
       "      <td>-1.182065e-14</td>\n",
       "      <td>-2.112059e-14</td>\n",
       "      <td>7.314206e-13</td>\n",
       "      <td>0.500000</td>\n",
       "    </tr>\n",
       "    <tr>\n",
       "      <th>std</th>\n",
       "      <td>1.000012e+00</td>\n",
       "      <td>1.000012e+00</td>\n",
       "      <td>1.000012e+00</td>\n",
       "      <td>1.000012e+00</td>\n",
       "      <td>1.000012e+00</td>\n",
       "      <td>1.000012e+00</td>\n",
       "      <td>1.000012e+00</td>\n",
       "      <td>1.000012e+00</td>\n",
       "      <td>1.000012e+00</td>\n",
       "      <td>1.000012e+00</td>\n",
       "      <td>...</td>\n",
       "      <td>1.000012e+00</td>\n",
       "      <td>1.000012e+00</td>\n",
       "      <td>1.000012e+00</td>\n",
       "      <td>1.000012e+00</td>\n",
       "      <td>1.000012e+00</td>\n",
       "      <td>1.000012e+00</td>\n",
       "      <td>1.000012e+00</td>\n",
       "      <td>1.000012e+00</td>\n",
       "      <td>1.000012e+00</td>\n",
       "      <td>0.500006</td>\n",
       "    </tr>\n",
       "    <tr>\n",
       "      <th>min</th>\n",
       "      <td>-1.734985e+00</td>\n",
       "      <td>-9.920411e-01</td>\n",
       "      <td>-3.519707e+00</td>\n",
       "      <td>-1.631947e+00</td>\n",
       "      <td>-2.876992e+00</td>\n",
       "      <td>-1.002472e+00</td>\n",
       "      <td>-7.379002e-01</td>\n",
       "      <td>-6.451685e-01</td>\n",
       "      <td>-4.628107e-01</td>\n",
       "      <td>-4.639850e-01</td>\n",
       "      <td>...</td>\n",
       "      <td>-2.102890e+00</td>\n",
       "      <td>-2.410252e+00</td>\n",
       "      <td>-1.126917e+01</td>\n",
       "      <td>-1.853512e+00</td>\n",
       "      <td>-2.795588e+00</td>\n",
       "      <td>-4.021063e+00</td>\n",
       "      <td>-2.118839e+00</td>\n",
       "      <td>-3.492717e+00</td>\n",
       "      <td>-4.507458e+00</td>\n",
       "      <td>0.000000</td>\n",
       "    </tr>\n",
       "    <tr>\n",
       "      <th>25%</th>\n",
       "      <td>-8.652559e-01</td>\n",
       "      <td>-9.920411e-01</td>\n",
       "      <td>-5.418867e-01</td>\n",
       "      <td>-9.035971e-01</td>\n",
       "      <td>-8.624198e-01</td>\n",
       "      <td>-3.352647e-01</td>\n",
       "      <td>-7.379002e-01</td>\n",
       "      <td>-6.451685e-01</td>\n",
       "      <td>-4.628107e-01</td>\n",
       "      <td>-4.639850e-01</td>\n",
       "      <td>...</td>\n",
       "      <td>4.755361e-01</td>\n",
       "      <td>-1.380494e+00</td>\n",
       "      <td>8.188623e-02</td>\n",
       "      <td>-9.220708e-01</td>\n",
       "      <td>-4.089958e-01</td>\n",
       "      <td>-1.140004e+00</td>\n",
       "      <td>-6.394340e-01</td>\n",
       "      <td>1.580313e-01</td>\n",
       "      <td>-4.144809e-01</td>\n",
       "      <td>0.000000</td>\n",
       "    </tr>\n",
       "    <tr>\n",
       "      <th>50%</th>\n",
       "      <td>-1.442713e-03</td>\n",
       "      <td>-4.961177e-01</td>\n",
       "      <td>-5.418867e-01</td>\n",
       "      <td>-1.752469e-01</td>\n",
       "      <td>-8.624198e-01</td>\n",
       "      <td>-3.352647e-01</td>\n",
       "      <td>-7.379002e-01</td>\n",
       "      <td>-6.451685e-01</td>\n",
       "      <td>-4.628107e-01</td>\n",
       "      <td>-4.639850e-01</td>\n",
       "      <td>...</td>\n",
       "      <td>4.755361e-01</td>\n",
       "      <td>6.790211e-01</td>\n",
       "      <td>8.188623e-02</td>\n",
       "      <td>6.946329e-02</td>\n",
       "      <td>7.843005e-01</td>\n",
       "      <td>3.134095e-02</td>\n",
       "      <td>-2.213962e-01</td>\n",
       "      <td>2.623478e-01</td>\n",
       "      <td>2.919831e-01</td>\n",
       "      <td>0.500000</td>\n",
       "    </tr>\n",
       "    <tr>\n",
       "      <th>75%</th>\n",
       "      <td>8.601166e-01</td>\n",
       "      <td>4.957291e-01</td>\n",
       "      <td>9.470234e-01</td>\n",
       "      <td>5.531033e-01</td>\n",
       "      <td>1.152153e+00</td>\n",
       "      <td>-3.352647e-01</td>\n",
       "      <td>1.355197e+00</td>\n",
       "      <td>1.549983e+00</td>\n",
       "      <td>-4.628107e-01</td>\n",
       "      <td>-4.639850e-01</td>\n",
       "      <td>...</td>\n",
       "      <td>4.755361e-01</td>\n",
       "      <td>6.790211e-01</td>\n",
       "      <td>8.188623e-02</td>\n",
       "      <td>9.708580e-01</td>\n",
       "      <td>7.843005e-01</td>\n",
       "      <td>6.405891e-01</td>\n",
       "      <td>4.024029e-01</td>\n",
       "      <td>3.411108e-01</td>\n",
       "      <td>7.100846e-01</td>\n",
       "      <td>1.000000</td>\n",
       "    </tr>\n",
       "    <tr>\n",
       "      <th>max</th>\n",
       "      <td>1.731471e+00</td>\n",
       "      <td>2.479423e+00</td>\n",
       "      <td>3.924843e+00</td>\n",
       "      <td>2.373979e+00</td>\n",
       "      <td>1.152153e+00</td>\n",
       "      <td>3.667982e+00</td>\n",
       "      <td>1.355197e+00</td>\n",
       "      <td>1.549983e+00</td>\n",
       "      <td>2.160711e+00</td>\n",
       "      <td>2.155242e+00</td>\n",
       "      <td>...</td>\n",
       "      <td>4.755361e-01</td>\n",
       "      <td>2.738537e+00</td>\n",
       "      <td>1.143294e+01</td>\n",
       "      <td>1.241276e+00</td>\n",
       "      <td>7.843005e-01</td>\n",
       "      <td>1.449565e+01</td>\n",
       "      <td>1.171821e+01</td>\n",
       "      <td>9.835305e-01</td>\n",
       "      <td>9.070418e-01</td>\n",
       "      <td>1.000000</td>\n",
       "    </tr>\n",
       "  </tbody>\n",
       "</table>\n",
       "<p>8 rows × 39 columns</p>\n",
       "</div>"
      ],
      "text/plain": [
       "                 id     ps_ind_01  ps_ind_02_cat     ps_ind_03  ps_ind_04_cat  \\\n",
       "count  4.338800e+04  4.338800e+04   4.338800e+04  4.338800e+04   4.338800e+04   \n",
       "mean  -3.699447e-16  9.170545e-15   3.403964e-15 -7.386786e-15  -1.583314e-15   \n",
       "std    1.000012e+00  1.000012e+00   1.000012e+00  1.000012e+00   1.000012e+00   \n",
       "min   -1.734985e+00 -9.920411e-01  -3.519707e+00 -1.631947e+00  -2.876992e+00   \n",
       "25%   -8.652559e-01 -9.920411e-01  -5.418867e-01 -9.035971e-01  -8.624198e-01   \n",
       "50%   -1.442713e-03 -4.961177e-01  -5.418867e-01 -1.752469e-01  -8.624198e-01   \n",
       "75%    8.601166e-01  4.957291e-01   9.470234e-01  5.531033e-01   1.152153e+00   \n",
       "max    1.731471e+00  2.479423e+00   3.924843e+00  2.373979e+00   1.152153e+00   \n",
       "\n",
       "       ps_ind_05_cat  ps_ind_06_bin  ps_ind_07_bin  ps_ind_08_bin  \\\n",
       "count   4.338800e+04   4.338800e+04   4.338800e+04   4.338800e+04   \n",
       "mean   -2.287581e-14  -2.098982e-14  -2.452268e-14  -2.210917e-15   \n",
       "std     1.000012e+00   1.000012e+00   1.000012e+00   1.000012e+00   \n",
       "min    -1.002472e+00  -7.379002e-01  -6.451685e-01  -4.628107e-01   \n",
       "25%    -3.352647e-01  -7.379002e-01  -6.451685e-01  -4.628107e-01   \n",
       "50%    -3.352647e-01  -7.379002e-01  -6.451685e-01  -4.628107e-01   \n",
       "75%    -3.352647e-01   1.355197e+00   1.549983e+00  -4.628107e-01   \n",
       "max     3.667982e+00   1.355197e+00   1.549983e+00   2.160711e+00   \n",
       "\n",
       "       ps_ind_09_bin      ...       ps_car_08_cat  ps_car_09_cat  \\\n",
       "count   4.338800e+04      ...        4.338800e+04   4.338800e+04   \n",
       "mean    3.629107e-15      ...       -1.719607e-16  -1.110981e-14   \n",
       "std     1.000012e+00      ...        1.000012e+00   1.000012e+00   \n",
       "min    -4.639850e-01      ...       -2.102890e+00  -2.410252e+00   \n",
       "25%    -4.639850e-01      ...        4.755361e-01  -1.380494e+00   \n",
       "50%    -4.639850e-01      ...        4.755361e-01   6.790211e-01   \n",
       "75%    -4.639850e-01      ...        4.755361e-01   6.790211e-01   \n",
       "max     2.155242e+00      ...        4.755361e-01   2.738537e+00   \n",
       "\n",
       "       ps_car_10_cat  ps_car_11_cat     ps_car_11     ps_car_12     ps_car_13  \\\n",
       "count   4.338800e+04   4.338800e+04  4.338800e+04  4.338800e+04  4.338800e+04   \n",
       "mean    2.284687e-15   1.283439e-15  1.331024e-15  1.065338e-12 -1.182065e-14   \n",
       "std     1.000012e+00   1.000012e+00  1.000012e+00  1.000012e+00  1.000012e+00   \n",
       "min    -1.126917e+01  -1.853512e+00 -2.795588e+00 -4.021063e+00 -2.118839e+00   \n",
       "25%     8.188623e-02  -9.220708e-01 -4.089958e-01 -1.140004e+00 -6.394340e-01   \n",
       "50%     8.188623e-02   6.946329e-02  7.843005e-01  3.134095e-02 -2.213962e-01   \n",
       "75%     8.188623e-02   9.708580e-01  7.843005e-01  6.405891e-01  4.024029e-01   \n",
       "max     1.143294e+01   1.241276e+00  7.843005e-01  1.449565e+01  1.171821e+01   \n",
       "\n",
       "          ps_car_14     ps_car_15        target  \n",
       "count  4.338800e+04  4.338800e+04  43388.000000  \n",
       "mean  -2.112059e-14  7.314206e-13      0.500000  \n",
       "std    1.000012e+00  1.000012e+00      0.500006  \n",
       "min   -3.492717e+00 -4.507458e+00      0.000000  \n",
       "25%    1.580313e-01 -4.144809e-01      0.000000  \n",
       "50%    2.623478e-01  2.919831e-01      0.500000  \n",
       "75%    3.411108e-01  7.100846e-01      1.000000  \n",
       "max    9.835305e-01  9.070418e-01      1.000000  \n",
       "\n",
       "[8 rows x 39 columns]"
      ]
     },
     "execution_count": 9,
     "metadata": {},
     "output_type": "execute_result"
    }
   ],
   "source": [
    "scaler = StandardScaler()\n",
    "X_np = scaler.fit_transform(X_resampled)\n",
    "norm_X_resampled = pd.DataFrame(data=X_np, columns=data_1.drop(\"target\", axis=1).columns)\n",
    "norm_Y_resampled = pd.DataFrame(data=y_resampled, columns = ['target'])\n",
    "norm_data_resampled = pd.concat([norm_X_resampled, norm_Y_resampled], axis=1)\n",
    "norm_data_resampled.describe()"
   ]
  },
  {
   "cell_type": "code",
   "execution_count": 10,
   "metadata": {
    "collapsed": true
   },
   "outputs": [],
   "source": [
    "train,cv=train_test_split(norm_data_resampled,test_size = 0.3, random_state=0,stratify=norm_data_resampled['target'])\n",
    "X_train = train.drop(\"target\", axis=1)\n",
    "y_train = train[\"target\"]\n",
    "X_cv = cv.drop(\"target\", axis = 1)\n",
    "y_cv = cv[\"target\"]"
   ]
  },
  {
   "cell_type": "code",
   "execution_count": 12,
   "metadata": {
    "collapsed": true
   },
   "outputs": [],
   "source": [
    "cols = ['estimator_name', 'filename', 'accuracy', 'gini_cv', 'gini_train', 'precision', 'recall', 'fscore']\n",
    "results_file = open('resultsfile2.csv','a+')\n",
    "line = \",\".join(cols)\n",
    "results_file.write(line + '\\n')\n",
    "results_file.close()\n",
    "results = pd.DataFrame([], columns = cols)"
   ]
  },
  {
   "cell_type": "code",
   "execution_count": 14,
   "metadata": {
    "collapsed": false
   },
   "outputs": [
    {
     "name": "stdout",
     "output_type": "stream",
     "text": [
      "['LogisticRegression', 'logistic_C1_1.pkl', 0.58262272412998384, 0.23103153564593024, 0.26061502065421577, 0.58906379453189728, 0.54625076828518748, 0.56685003587658467]\n",
      "       estimator_name           filename  accuracy   gini_cv  gini_train  \\\n",
      "0          GaussianNB   GaussianNB_1.pkl  0.570177  0.230329    0.245074   \n",
      "1  LogisticRegression  logistic_C1_1.pkl  0.582623  0.231032    0.260615   \n",
      "\n",
      "   precision    recall    fscore  \n",
      "0   0.628050  0.344038  0.444555  \n",
      "1   0.589064  0.546251  0.566850  \n"
     ]
    }
   ],
   "source": [
    "from sklearn.calibration import CalibratedClassifierCV\n",
    "estimators = [CalibratedClassifierCV(svm.LinearSVC(class_weight = \"balanced\", verbose = 2)), DecisionTreeClassifier(max_depth = 7, class_weight = \"balanced\"),DecisionTreeClassifier(max_depth = 9, class_weight = \"balanced\"),KNeighborsClassifier(n_neighbors=5)]\n",
    "filenames = ['SVC_C1_linear_1', 'DecTree_7_1','DecTree_9_1','KNeigh_5_1']\n",
    "estimators = [GaussianNB()]\n",
    "filenames = ['GaussianNB_1']\n",
    "estimators = [LogisticRegression(C = 1, class_weight = \"balanced\"), CalibratedClassifierCV(svm.LinearSVC(class_weight = \"balanced\", verbose = 2)), DecisionTreeClassifier(max_depth = 3, class_weight = \"balanced\"),DecisionTreeClassifier(max_depth = 5, class_weight = \"balanced\"), RandomForestClassifier(max_depth=2, random_state=0, class_weight = \"balanced\", verbose = 2), KNeighborsClassifier(n_neighbors=3)]\n",
    "filenames = ['logistic_C1_1', 'SVC_C1_linear_1', 'DecTree_3_1','DecTree_5_1','RandForest_1', 'KNeigh_3_1']\n",
    "#for i in range(0,len(estimators)):\n",
    "#for i in [0,2,3,4,5]:\n",
    "for i in range(0,1):\n",
    "    estimator = estimators[i]\n",
    "    filename = filenames[i]\n",
    "    results_list =  evaluate_clf(estimator, X_train, y_train, X_cv, y_cv, filename)\n",
    "    print(results_list)\n",
    "    df = pd.DataFrame([results_list], columns = cols)\n",
    "    results = pd.concat([results, df],ignore_index=True)\n",
    "    line = str(results_list)[1:-1]\n",
    "    results_file = open('resultsfile2.csv','a')\n",
    "    results_file.write(line + '\\n')\n",
    "    results_file.close()\n",
    "    \n",
    "print(results)"
   ]
  },
  {
   "cell_type": "markdown",
   "metadata": {},
   "source": [
    "Let's try visualizations again on this reduced dataset. "
   ]
  },
  {
   "cell_type": "markdown",
   "metadata": {
    "collapsed": true
   },
   "source": [
    "# Making predictions on test data"
   ]
  },
  {
   "cell_type": "code",
   "execution_count": 17,
   "metadata": {
    "collapsed": false
   },
   "outputs": [],
   "source": [
    "test = pd.read_csv('test.csv')\n",
    "cols_trimmed = [x for x in test.columns if 'calc' not in x]\n",
    "test_1 = test[cols_trimmed]\n",
    "scaler = StandardScaler()\n",
    "X_np = scaler.fit_transform(test_1)\n",
    "norm_test = pd.DataFrame(data=X_np, columns=cols_trimmed)\n",
    "clf = joblib.load('logistic_C1_1.pkl')\n",
    "y = clf.predict_proba(norm_test)"
   ]
  },
  {
   "cell_type": "code",
   "execution_count": 21,
   "metadata": {
    "collapsed": false
   },
   "outputs": [],
   "source": [
    "df = pd.DataFrame.from_items([(\"target\", y[:,1])])\n",
    "test_results = pd.concat([test[\"id\"], df], axis = 1)\n",
    "test_results.to_csv(\"submission.csv\", index = False)"
   ]
  },
  {
   "cell_type": "code",
   "execution_count": null,
   "metadata": {
    "collapsed": true
   },
   "outputs": [],
   "source": []
  }
 ],
 "metadata": {
  "kernelspec": {
   "display_name": "Python 2",
   "language": "python",
   "name": "python2"
  },
  "language_info": {
   "codemirror_mode": {
    "name": "ipython",
    "version": 2
   },
   "file_extension": ".py",
   "mimetype": "text/x-python",
   "name": "python",
   "nbconvert_exporter": "python",
   "pygments_lexer": "ipython2",
   "version": "2.7.13"
  }
 },
 "nbformat": 4,
 "nbformat_minor": 2
}
